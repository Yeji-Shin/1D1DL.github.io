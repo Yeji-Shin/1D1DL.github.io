{
 "cells": [
  {
   "cell_type": "code",
   "execution_count": null,
   "id": "ac3bffd2",
   "metadata": {},
   "outputs": [],
   "source": [
    "# 완전 탐색: 주어진 데이터가 작은 경우\n",
    "# 친구들을 나열해서 확인\n",
    "\n",
    "from itertools import permutations\n",
    "\n",
    "def solution(n, weak, dist):\n",
    "    \n",
    "    # 원형 데이터는 길이를 2배로 늘려서 일자 형태로 만들어주면 쉬움\n",
    "    length = len(weak)\n",
    "    for i in range(length):\n",
    "        weak.append(weak[i]+n)\n",
    "    \n",
    "    # 투입할 친구의 최솟값\n",
    "    answer = len(dist) + 1\n",
    "    \n",
    "    # 0부터 length-1 까지를 각각 시작점으로 설정 \n",
    "    for start in range(length):\n",
    "        for friends in list(permutations(dist, len(dist))):\n",
    "            count = 1  # 투입할 친구의 수\n",
    "            position = weak[start] + friends[count-1]  # 해당 친구가 점검할 수 있는 마지막 위치\n",
    "            for index in range(start, start+length):  # 시작점부터 모든 취약 지점 확인\n",
    "                if position < weak[index]:  # 점검할 수 있는 위치 벗어나면 새로운 친구 투입\n",
    "                    count += 1\n",
    "                    if count > len(dist):  # 더 투입할 친구가 없으면 종료\n",
    "                        break\n",
    "                    position = weak[index] + friends[count-1]\n",
    "            answer = min(answer, count)\n",
    "            \n",
    "    if answer > len(dist):\n",
    "        return -1\n",
    "        \n",
    "    return answer"
   ]
  }
 ],
 "metadata": {
  "kernelspec": {
   "display_name": "Python 3",
   "language": "python",
   "name": "python3"
  },
  "language_info": {
   "codemirror_mode": {
    "name": "ipython",
    "version": 3
   },
   "file_extension": ".py",
   "mimetype": "text/x-python",
   "name": "python",
   "nbconvert_exporter": "python",
   "pygments_lexer": "ipython3",
   "version": "3.8.8"
  }
 },
 "nbformat": 4,
 "nbformat_minor": 5
}
