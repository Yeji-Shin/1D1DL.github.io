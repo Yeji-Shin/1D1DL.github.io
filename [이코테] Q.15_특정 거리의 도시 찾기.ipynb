{
 "cells": [
  {
   "cell_type": "code",
   "execution_count": 10,
   "id": "6936559e",
   "metadata": {},
   "outputs": [
    {
     "name": "stdout",
     "output_type": "stream",
     "text": [
      "4 4 2 1\n",
      "1 2\n",
      "1 3\n",
      "2 3\n",
      "2 4\n",
      "-1\n"
     ]
    }
   ],
   "source": [
    "# 모든 노드간 거리가 같은 그래프에서는 bfs 사용해 최단거리 구하기\n",
    "\n",
    "n, m, k, x = map(int, input().split())  # x에서 출발해서 최단거리가 k인 노드 오름차순 출력 \n",
    "graph = [[] for _ in range(n+1)]\n",
    "for _ in range(m):\n",
    "    x, y = map(int, input().split())\n",
    "    graph[x].append(y)\n",
    "    \n",
    "from collections import deque\n",
    "\n",
    "distance = [-1] * (n+1)\n",
    "\n",
    "q = deque()\n",
    "q.append(x)\n",
    "distance[x] = 0\n",
    "    \n",
    "while q:\n",
    "    now = q.popleft()\n",
    "    for nn in graph[now]:\n",
    "        if distance[nn] == -1:\n",
    "            q.append(nn)\n",
    "            distance[nn] = distance[now] + 1\n",
    "        \n",
    "check = False\n",
    "for i in range(1, n+1):\n",
    "    if distance[i] == k:\n",
    "        print(i)\n",
    "        check = True\n",
    "\n",
    "if check == False:\n",
    "    print(-1)\n",
    "        "
   ]
  }
 ],
 "metadata": {
  "kernelspec": {
   "display_name": "Python 3",
   "language": "python",
   "name": "python3"
  },
  "language_info": {
   "codemirror_mode": {
    "name": "ipython",
    "version": 3
   },
   "file_extension": ".py",
   "mimetype": "text/x-python",
   "name": "python",
   "nbconvert_exporter": "python",
   "pygments_lexer": "ipython3",
   "version": "3.8.8"
  }
 },
 "nbformat": 4,
 "nbformat_minor": 5
}
