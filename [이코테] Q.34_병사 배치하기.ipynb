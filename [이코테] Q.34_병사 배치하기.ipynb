{
 "cells": [
  {
   "cell_type": "code",
   "execution_count": 2,
   "id": "9f3d57b3",
   "metadata": {},
   "outputs": [
    {
     "name": "stdout",
     "output_type": "stream",
     "text": [
      "7\n",
      "15 11 4 8 5 2 4\n",
      "2\n"
     ]
    }
   ],
   "source": [
    "n = int(input())\n",
    "data = list(map(int, input().split()))\n",
    "\n",
    "dp = [0] * n\n",
    "dp[0] = 1\n",
    "\n",
    "for i in range(1,n):\n",
    "    if data[i] <= data[i-1]:\n",
    "        dp[i] = dp[i-1] + 1\n",
    "    else:\n",
    "        dp[i] = dp[i-1]\n",
    "        \n",
    "print(n-dp[n-1])\n"
   ]
  },
  {
   "cell_type": "code",
   "execution_count": 3,
   "id": "06bb6889",
   "metadata": {},
   "outputs": [
    {
     "name": "stdout",
     "output_type": "stream",
     "text": [
      "7\n",
      "15 11 4 8 5 2 4\n",
      "2\n"
     ]
    }
   ],
   "source": [
    "# LIS(Longest Incresing Subsequenc): 가장 긴 증가하는 부분 수열\n",
    "\n",
    "n = int(input())\n",
    "data = list(map(int, input().split()))\n",
    "data.reverse()  # 순서를 뒤집어 가장 긴 증가하는 부분 수열 문제로 변환\n",
    "\n",
    "# 1차원 dp 테이블\n",
    "dp = [1] * n\n",
    "\n",
    "# 가장 긴 증가하는 부분 수열\n",
    "for i in range(1,n):\n",
    "    for j in range(0,i):\n",
    "        if data[j] < data[i]:\n",
    "            dp[i] = max(dp[i], dp[j]+1)\n",
    "            \n",
    "print(n-max(dp))"
   ]
  }
 ],
 "metadata": {
  "kernelspec": {
   "display_name": "Python 3",
   "language": "python",
   "name": "python3"
  },
  "language_info": {
   "codemirror_mode": {
    "name": "ipython",
    "version": 3
   },
   "file_extension": ".py",
   "mimetype": "text/x-python",
   "name": "python",
   "nbconvert_exporter": "python",
   "pygments_lexer": "ipython3",
   "version": "3.8.8"
  }
 },
 "nbformat": 4,
 "nbformat_minor": 5
}
