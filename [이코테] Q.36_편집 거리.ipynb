{
 "cells": [
  {
   "cell_type": "code",
   "execution_count": 3,
   "id": "b2f4dba3",
   "metadata": {},
   "outputs": [
    {
     "name": "stdout",
     "output_type": "stream",
     "text": [
      "sunday\n",
      "saturday\n",
      "3\n"
     ]
    }
   ],
   "source": [
    "def edit_dist(str1, str2):\n",
    "    n = len(str1)\n",
    "    m = len(str2)\n",
    "    \n",
    "    # 2차원 dp 테이블 \n",
    "    dp = [[0] * (m+1) for _ in range(n+1)]\n",
    "    for i in range(1, n+1):\n",
    "        dp[i][0] = i\n",
    "    for j in range(1, m+1):\n",
    "        dp[0][j] = j\n",
    "        \n",
    "    # 최소 편집 거리 계산\n",
    "    for i in range(1, n+1):\n",
    "        for j in range(1, m+1):\n",
    "            # 두 문자가 같으면 왼쪽 위의 수 그대로 대입\n",
    "            if str1[i-1] == str2[j-1]:\n",
    "                dp[i][j] = dp[i-1][j-1]\n",
    "                \n",
    "            # 문자가 다르면 3가지 중 최솟값 찾기\n",
    "            else:\n",
    "                dp[i][j] = 1 + min(dp[i][j-1], dp[i-1][j], dp[i-1][j-1])\n",
    "                \n",
    "    return dp[n][m]\n",
    "\n",
    "str1 = input()\n",
    "str2 = input()\n",
    "\n",
    "print(edit_dist(str1, str2))"
   ]
  }
 ],
 "metadata": {
  "kernelspec": {
   "display_name": "Python 3",
   "language": "python",
   "name": "python3"
  },
  "language_info": {
   "codemirror_mode": {
    "name": "ipython",
    "version": 3
   },
   "file_extension": ".py",
   "mimetype": "text/x-python",
   "name": "python",
   "nbconvert_exporter": "python",
   "pygments_lexer": "ipython3",
   "version": "3.8.8"
  }
 },
 "nbformat": 4,
 "nbformat_minor": 5
}
