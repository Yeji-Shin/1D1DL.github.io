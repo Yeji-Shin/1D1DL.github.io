{
 "cells": [
  {
   "cell_type": "code",
   "execution_count": 1,
   "id": "50d84298",
   "metadata": {},
   "outputs": [
    {
     "name": "stdout",
     "output_type": "stream",
     "text": [
      "7\n",
      "3 10\n",
      "5 20\n",
      "1 10\n",
      "1 20\n",
      "2 15\n",
      "4 40\n",
      "2 200\n",
      "45\n"
     ]
    }
   ],
   "source": [
    "n = int(input())\n",
    "t = []  # 상담시간\n",
    "p = []  # 상담금액\n",
    "for _ in range(n):\n",
    "    time, pay = map(int, input().split())\n",
    "    t.append(time)\n",
    "    p.append(pay)\n",
    "    \n",
    "# dp: i번째 날부터 마지막 날까지 낼 수 있는 최대 이익\n",
    "dp = [0] * (n+1)\n",
    "max_val = 0\n",
    "\n",
    "# 리스트를 뒤에서부터 확인\n",
    "for i in range(n-1, -1, -1):  # n-1부터 0까지 순서대로 확인\n",
    "    time = t[i] + i  # 현재 상담을 했을 때 끝나는 일자\n",
    "    # 상담이 퇴사전에 끝나는 경우\n",
    "    if time <= n:\n",
    "        dp[i] = max(p[i]+dp[time], max_val)\n",
    "        max_val = dp[i]\n",
    "    else:\n",
    "        dp[i] = max_val\n",
    "        \n",
    "print(max_val)"
   ]
  }
 ],
 "metadata": {
  "kernelspec": {
   "display_name": "Python 3",
   "language": "python",
   "name": "python3"
  },
  "language_info": {
   "codemirror_mode": {
    "name": "ipython",
    "version": 3
   },
   "file_extension": ".py",
   "mimetype": "text/x-python",
   "name": "python",
   "nbconvert_exporter": "python",
   "pygments_lexer": "ipython3",
   "version": "3.8.8"
  }
 },
 "nbformat": 4,
 "nbformat_minor": 5
}
