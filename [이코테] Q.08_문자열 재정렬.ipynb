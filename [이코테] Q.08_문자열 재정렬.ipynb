{
 "cells": [
  {
   "cell_type": "code",
   "execution_count": 6,
   "id": "bb98ee81",
   "metadata": {},
   "outputs": [
    {
     "name": "stdout",
     "output_type": "stream",
     "text": [
      "k1ka5cb7\n",
      "abckk13\n"
     ]
    }
   ],
   "source": [
    "# 모든 알파벳 오름차순, 모든 숫자 더한 값\n",
    "\n",
    "s = input()\n",
    "\n",
    "alphabet = []\n",
    "sum_int = 0\n",
    "\n",
    "for char in s:\n",
    "    if '0'<=char<='9':\n",
    "        sum_int += int(char)\n",
    "    else:\n",
    "        alphabet.append(char)\n",
    "       \n",
    "result = ''\n",
    "alphabet.sort()\n",
    "for a in alphabet:\n",
    "    result += a\n",
    "    \n",
    "result += str(sum_int)\n",
    "print(result)\n"
   ]
  },
  {
   "cell_type": "code",
   "execution_count": 7,
   "id": "04943cf3",
   "metadata": {},
   "outputs": [
    {
     "name": "stdout",
     "output_type": "stream",
     "text": [
      "k1ka5cb7\n",
      "abckk13\n"
     ]
    }
   ],
   "source": [
    "s = input()\n",
    "result = []\n",
    "val = 0\n",
    "\n",
    "for x in s:\n",
    "    if x.isalpha():\n",
    "        result.append(x)\n",
    "    else:\n",
    "        val += int(x)\n",
    "        \n",
    "result.sort()\n",
    "\n",
    "if val != 0:\n",
    "    result.append(str(val))\n",
    "    \n",
    "print(''.join(result))  # 리스트 문자열로 한번에 바꾸기"
   ]
  },
  {
   "cell_type": "code",
   "execution_count": 9,
   "id": "40fab7c5",
   "metadata": {},
   "outputs": [
    {
     "name": "stdout",
     "output_type": "stream",
     "text": [
      "True\n",
      "True\n",
      "True\n",
      "False\n",
      "False\n"
     ]
    }
   ],
   "source": [
    "# 알파벳인지 확인하기 \n",
    "\n",
    "# isalpha(): 문자열의 구성이 모두 문자인지 확인\n",
    "\n",
    "Ex1 = 'A'\n",
    "Ex2 = 'ABC'\n",
    "Ex3 = '알파벳인지확인'\n",
    "Ex4 = \"Hello world\"  # 공백이 있으면 false\n",
    "Ex5 = \"100hello\"  # 숫자가 있으면 false \n",
    "\n",
    "print(Ex1.isalpha())\n",
    " \n",
    "print(Ex2.isalpha())\n",
    " \n",
    "print(Ex3.isalpha())\n",
    " \n",
    "print(Ex4.isalpha())\n",
    " \n",
    "print(Ex5.isalpha())"
   ]
  },
  {
   "cell_type": "code",
   "execution_count": 10,
   "id": "9bf0332d",
   "metadata": {},
   "outputs": [
    {
     "name": "stdout",
     "output_type": "stream",
     "text": [
      "False\n",
      "True\n",
      "False\n"
     ]
    }
   ],
   "source": [
    "# 숫자인지 확인하기\n",
    "\n",
    "# isdigit(): 문자열의 구성이 모두 숫자인지 확인\n",
    "\n",
    "Ex1 = '010-1234-5678'  # 기호 있으면 false\n",
    "Ex2 = '123456'\n",
    "Ex3 = 'A4B3'  # 문자 있으면 false\n",
    "\n",
    "print(Ex1.isdigit())\n",
    "print(Ex2.isdigit())\n",
    "print(Ex3.isdigit())"
   ]
  },
  {
   "cell_type": "code",
   "execution_count": 11,
   "id": "95860338",
   "metadata": {},
   "outputs": [
    {
     "name": "stdout",
     "output_type": "stream",
     "text": [
      "True\n",
      "True\n",
      "False\n",
      "False\n"
     ]
    }
   ],
   "source": [
    "# 알파벳 또는 숫자인지 확인하기\n",
    "\n",
    "# isalnum():  문자열의 구성이 모두 문자 혹은 숫자인지 확인\n",
    "\n",
    "Ex1 = '확인'\n",
    "Ex2 = 'Hello3'\n",
    "Ex3 = '1.A'  # 특수 문자 있으면 false\n",
    "Ex4 = '1 A'  # 공백 있으면 false\n",
    "\n",
    "print(Ex1.isalnum())\n",
    "print(Ex2.isalnum())\n",
    "print(Ex3.isalnum())\n",
    "print(Ex4.isalnum())"
   ]
  }
 ],
 "metadata": {
  "kernelspec": {
   "display_name": "Python 3",
   "language": "python",
   "name": "python3"
  },
  "language_info": {
   "codemirror_mode": {
    "name": "ipython",
    "version": 3
   },
   "file_extension": ".py",
   "mimetype": "text/x-python",
   "name": "python",
   "nbconvert_exporter": "python",
   "pygments_lexer": "ipython3",
   "version": "3.8.8"
  }
 },
 "nbformat": 4,
 "nbformat_minor": 5
}
