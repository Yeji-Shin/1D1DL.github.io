{
 "cells": [
  {
   "cell_type": "code",
   "execution_count": 9,
   "id": "aa07fb8d",
   "metadata": {},
   "outputs": [
    {
     "name": "stdout",
     "output_type": "stream",
     "text": [
      "5 8 3\n",
      "2 4 5 4 6\n",
      "46\n"
     ]
    }
   ],
   "source": [
    "n, m, k = map(int, input().split())  # n개의 수를 최대 m번 연속으로 더하기 가능\n",
    "data = list(map(int, input().split()))\n",
    "\n",
    "data.sort(reverse=True)\n",
    "\n",
    "now_count = 0\n",
    "result = 0\n",
    "\n",
    "while m>0:\n",
    "    if now_count == k:\n",
    "        result += data[1]\n",
    "        now_count = 0\n",
    "    else:\n",
    "        result += data[0]\n",
    "        now_count += 1\n",
    "    m -= 1\n",
    "    \n",
    "print(result)"
   ]
  },
  {
   "cell_type": "code",
   "execution_count": 10,
   "id": "e56338f1",
   "metadata": {},
   "outputs": [
    {
     "name": "stdout",
     "output_type": "stream",
     "text": [
      "5 8 3\n",
      "2 4 5 4 6\n",
      "46\n"
     ]
    }
   ],
   "source": [
    "n, m, k = map(int, input().split())  \n",
    "data = list(map(int, input().split()))\n",
    "\n",
    "data.sort()\n",
    "first = data[n-1]  # 제일 큰 수\n",
    "second = data[n-2]  # 두번째로 큰 수\n",
    "\n",
    "result = 0\n",
    "\n",
    "while True:\n",
    "    for i in range(k):  # 가장 큰 수 m 번 더하기\n",
    "        if m == 0:\n",
    "            break\n",
    "        result += first\n",
    "        m -= 1\n",
    "    if m == 0:\n",
    "        break \n",
    "    result += second  # 두번쨰로 큰 수 한번 더하기\n",
    "    m -= 1\n",
    "    \n",
    "print(result)"
   ]
  },
  {
   "cell_type": "code",
   "execution_count": 11,
   "id": "0f673091",
   "metadata": {},
   "outputs": [
    {
     "name": "stdout",
     "output_type": "stream",
     "text": [
      "5 8 3\n",
      "2 4 5 4 6\n",
      "46\n"
     ]
    }
   ],
   "source": [
    "# 숫자가 더해지는 횟수를 구해서 더하기\n",
    "\n",
    "n, m, k = map(int, input().split())  \n",
    "data = list(map(int, input().split()))\n",
    "\n",
    "data.sort()\n",
    "first = data[n-1]  # 제일 큰 수\n",
    "second = data[n-2]  # 두번째로 큰 수\n",
    "\n",
    "# 가장 큰 수가 더해지는 횟수\n",
    "count = (m // (k+1)) * k\n",
    "count += m % (k+1)\n",
    "\n",
    "result = 0\n",
    "result += count * first\n",
    "result += (m-count) * second\n",
    "\n",
    "print(result)"
   ]
  }
 ],
 "metadata": {
  "kernelspec": {
   "display_name": "Python 3",
   "language": "python",
   "name": "python3"
  },
  "language_info": {
   "codemirror_mode": {
    "name": "ipython",
    "version": 3
   },
   "file_extension": ".py",
   "mimetype": "text/x-python",
   "name": "python",
   "nbconvert_exporter": "python",
   "pygments_lexer": "ipython3",
   "version": "3.8.8"
  }
 },
 "nbformat": 4,
 "nbformat_minor": 5
}
