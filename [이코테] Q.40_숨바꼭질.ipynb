{
 "cells": [
  {
   "cell_type": "code",
   "execution_count": 5,
   "id": "4151784a",
   "metadata": {},
   "outputs": [
    {
     "name": "stdout",
     "output_type": "stream",
     "text": [
      "6 7\n",
      "3 6\n",
      "4 3\n",
      "3 2\n",
      "1 3\n",
      "1 2\n",
      "2 4\n",
      "5 2\n",
      "4 2 3\n"
     ]
    }
   ],
   "source": [
    "import heapq\n",
    "\n",
    "n,m = map(int, input().split())\n",
    "graph = [[] for _ in range(n+1)]\n",
    "for _ in range(m):\n",
    "    a, b = map(int, input().split())\n",
    "    graph[a].append((b,1))\n",
    "    graph[b].append((a,1))\n",
    "    \n",
    "start = 1\n",
    "INF = int(1e9)\n",
    "distance = [INF] * (n+1)\n",
    "\n",
    "q = []\n",
    "heapq.heappush(q, (0, start))\n",
    "distance[start] = 0\n",
    "\n",
    "while q:\n",
    "    dist, now = heapq.heappop(q)  # 노드 꺼내서\n",
    "    # 연결된 노드를 모두 검색\n",
    "    if distance[now] < dist:\n",
    "        continue\n",
    "    for nn in graph[now]:\n",
    "        cost = dist + nn[1]\n",
    "        if cost < distance[nn[0]]:\n",
    "            distance[nn[0]] = cost\n",
    "            heapq.heappush(q, (cost, nn[0]))\n",
    "\n",
    "            \n",
    "max_node = 0\n",
    "max_dist = 0\n",
    "result = []\n",
    "\n",
    "for i in range(1, n+1):\n",
    "    if max_dist < distance[i]:\n",
    "        max_node = i\n",
    "        max_dist = distance[i]\n",
    "        result = [max_node]\n",
    "    elif max_dist == distance[i]:\n",
    "        result.append(i)\n",
    "        \n",
    "print(max_node, max_dist, len(result))\n"
   ]
  }
 ],
 "metadata": {
  "kernelspec": {
   "display_name": "Python 3",
   "language": "python",
   "name": "python3"
  },
  "language_info": {
   "codemirror_mode": {
    "name": "ipython",
    "version": 3
   },
   "file_extension": ".py",
   "mimetype": "text/x-python",
   "name": "python",
   "nbconvert_exporter": "python",
   "pygments_lexer": "ipython3",
   "version": "3.8.8"
  }
 },
 "nbformat": 4,
 "nbformat_minor": 5
}
