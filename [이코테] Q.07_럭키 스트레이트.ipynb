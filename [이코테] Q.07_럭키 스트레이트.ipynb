{
 "cells": [
  {
   "cell_type": "code",
   "execution_count": 1,
   "id": "fac58d30",
   "metadata": {},
   "outputs": [
    {
     "name": "stdout",
     "output_type": "stream",
     "text": [
      "7755\n",
      "READY\n"
     ]
    }
   ],
   "source": [
    "n = input()\n",
    "mid = len(n) // 2  # 자릿수 기준으로 반으로 나누기\n",
    "\n",
    "sum_left = 0\n",
    "sum_right = 0\n",
    "\n",
    "for i in range(mid):\n",
    "    sum_left += int(n[i])\n",
    "\n",
    "for i in range(mid, len(n)):\n",
    "    sum_right += int(n[i])\n",
    "    \n",
    "if sum_left == sum_right:\n",
    "    print('LUCKY')\n",
    "else: \n",
    "    print('READY')"
   ]
  }
 ],
 "metadata": {
  "kernelspec": {
   "display_name": "Python 3",
   "language": "python",
   "name": "python3"
  },
  "language_info": {
   "codemirror_mode": {
    "name": "ipython",
    "version": 3
   },
   "file_extension": ".py",
   "mimetype": "text/x-python",
   "name": "python",
   "nbconvert_exporter": "python",
   "pygments_lexer": "ipython3",
   "version": "3.8.8"
  }
 },
 "nbformat": 4,
 "nbformat_minor": 5
}
