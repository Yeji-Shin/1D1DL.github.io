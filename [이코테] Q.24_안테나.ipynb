{
 "cells": [
  {
   "cell_type": "code",
   "execution_count": 1,
   "id": "4066081d",
   "metadata": {},
   "outputs": [
    {
     "name": "stdout",
     "output_type": "stream",
     "text": [
      "4\n",
      "5 1 7 9\n",
      "5\n"
     ]
    }
   ],
   "source": [
    "n = int(input()) \n",
    "house = list(map(int, input().split()))\n",
    "\n",
    "dist_loc = [] \n",
    "for i in range(n):\n",
    "    dist = 0\n",
    "    for j in range(n): \n",
    "        dist += abs(house[i]-house[j])     \n",
    "    dist_loc.append(dist)\n",
    "    \n",
    "\n",
    "print(house[dist_loc.index(min(dist_loc))])"
   ]
  },
  {
   "cell_type": "code",
   "execution_count": 2,
   "id": "070d89a6",
   "metadata": {},
   "outputs": [
    {
     "name": "stdout",
     "output_type": "stream",
     "text": [
      "6\n",
      "1 2 3 5 8 9\n",
      "3\n"
     ]
    }
   ],
   "source": [
    "# 간단한 풀이\n",
    "\n",
    "n = int(input())\n",
    "data = list(map(int, input().split()))\n",
    "data.sort()\n",
    "\n",
    "print(data[(n-1)//2])  # 집들의 중간값"
   ]
  }
 ],
 "metadata": {
  "kernelspec": {
   "display_name": "Python 3",
   "language": "python",
   "name": "python3"
  },
  "language_info": {
   "codemirror_mode": {
    "name": "ipython",
    "version": 3
   },
   "file_extension": ".py",
   "mimetype": "text/x-python",
   "name": "python",
   "nbconvert_exporter": "python",
   "pygments_lexer": "ipython3",
   "version": "3.8.8"
  }
 },
 "nbformat": 4,
 "nbformat_minor": 5
}
