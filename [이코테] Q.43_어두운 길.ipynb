{
 "cells": [
  {
   "cell_type": "code",
   "execution_count": 1,
   "id": "0e0bf4c4",
   "metadata": {},
   "outputs": [
    {
     "name": "stdout",
     "output_type": "stream",
     "text": [
      "7 11\n",
      "0 1 7\n",
      "0 3 5\n",
      "1 2 8\n",
      "1 3 9\n",
      "1 4 7\n",
      "2 4 5\n",
      "3 4 15\n",
      "3 5 6\n",
      "4 5 8\n",
      "4 6 9\n",
      "4 5 11\n",
      "51\n"
     ]
    }
   ],
   "source": [
    "# 최소 신장 트리 (크루스칼 알고리즘)\n",
    "\n",
    "'''\n",
    "cost가 작은 것 부터 union연산 진행\n",
    "cycle을 이루면 간선 버리기\n",
    "'''\n",
    "\n",
    "def find_parent(parent, x):\n",
    "    if parent[x] != x:\n",
    "        parent[x] = find_parent(parent, parent[x])\n",
    "    return parent[x]\n",
    "\n",
    "def union(parent, a, b):\n",
    "    a = find_parent(parent, a)\n",
    "    b = find_parent(parent, b)\n",
    "    if a < b:\n",
    "        parent[b] = a\n",
    "    else:\n",
    "        parent[a] = b\n",
    "\n",
    "n, m = map(int, input().split())  # 집의 수, 도로 개수\n",
    "\n",
    "parent = [0] * n\n",
    "for i in range(n):\n",
    "    parent[i] = i\n",
    "    \n",
    "edges = []\n",
    "for _ in range(m):\n",
    "    x, y, z = map(int, input().split())\n",
    "    edges.append((z, x, y))  \n",
    "edges.sort()  # 거리 순으로 집합 만들기 위함\n",
    "\n",
    "result = 0\n",
    "total = 0\n",
    "for edge in edges:\n",
    "    z, x, y = edge\n",
    "    total += z\n",
    "    if find_parent(parent, x) != find_parent(parent, y):  # 사이클을 발생하지 않는 경우에만 집합에 포함\n",
    "        union(parent, x, y)\n",
    "        result += z\n",
    "\n",
    "print(total-result)  # 절약할 수 있는 최대 비용"
   ]
  }
 ],
 "metadata": {
  "kernelspec": {
   "display_name": "Python 3",
   "language": "python",
   "name": "python3"
  },
  "language_info": {
   "codemirror_mode": {
    "name": "ipython",
    "version": 3
   },
   "file_extension": ".py",
   "mimetype": "text/x-python",
   "name": "python",
   "nbconvert_exporter": "python",
   "pygments_lexer": "ipython3",
   "version": "3.8.8"
  }
 },
 "nbformat": 4,
 "nbformat_minor": 5
}
