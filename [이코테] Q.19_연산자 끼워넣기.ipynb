{
 "cells": [
  {
   "cell_type": "code",
   "execution_count": 10,
   "id": "b222e49c",
   "metadata": {},
   "outputs": [
    {
     "name": "stdout",
     "output_type": "stream",
     "text": [
      "2\n",
      "5 6\n",
      "0 0 1 0\n",
      "30 30\n"
     ]
    }
   ],
   "source": [
    "# 풀이 1\n",
    "\n",
    "n = int(input())  # 수의 개수\n",
    "nums = list(map(int, input().split()))\n",
    "plus, minus, mul, div = map(int, input().split())\n",
    "\n",
    "a = '+' * plus + '-' * minus + '*' * mul + '//' * div\n",
    "\n",
    "from itertools import permutations\n",
    "candidates = list(set(permutations(a,n-1)))\n",
    "\n",
    "max_answer = -1e9\n",
    "min_answer = 1e9\n",
    "\n",
    "for candidate in candidates:\n",
    "    result = nums[0]\n",
    "    for i in range(n-1):\n",
    "        if candidate[i] == '+':\n",
    "            result += nums[i+1]\n",
    "        elif candidate[i] == '-':\n",
    "            result -= nums[i+1]\n",
    "        elif candidate[i] == '*':\n",
    "            result *= nums[i+1]\n",
    "        else:\n",
    "            if result < 0:\n",
    "                result = -(-result // nums[i+1])\n",
    "            else:\n",
    "                result //= nums[i+1]\n",
    "    \n",
    "    min_answer = min(min_answer, result)\n",
    "    max_answer = max(max_answer, result)\n",
    "    \n",
    "print(max_answer, min_answer)"
   ]
  },
  {
   "cell_type": "code",
   "execution_count": 17,
   "id": "35af04cd",
   "metadata": {},
   "outputs": [
    {
     "name": "stdout",
     "output_type": "stream",
     "text": [
      "2\n",
      "5 6\n",
      "0 0 1 0\n",
      "30\n",
      "30\n"
     ]
    }
   ],
   "source": [
    "# 풀이 2: dfs활용\n",
    "\n",
    "n = int(input())  # 수의 개수\n",
    "nums = list(map(int, input().split()))\n",
    "add, sub, mul, div = map(int, input().split())\n",
    "\n",
    "max_answer = -1e9\n",
    "min_answer = 1e9\n",
    "\n",
    "def dfs(i, now, add, sub, mul, div):\n",
    "    global max_answer, min_answer\n",
    "    if i == n:\n",
    "        min_answer = min(min_answer, now)\n",
    "        max_answer = max(max_answer, now)\n",
    "        \n",
    "    if add:\n",
    "        dfs(i+ 1, now+nums[i], add-1, sub, mul, div)\n",
    "    if sub:\n",
    "        dfs(i + 1, now-nums[i], add, sub-1, mul, div)\n",
    "    if mul:\n",
    "        dfs(i + 1, now*nums[i], add, sub, mul-1, div)\n",
    "    if div:\n",
    "        dfs(i + 1, int(now/nums[i]), add, sub, mul, div-1)\n",
    "        \n",
    "dfs(1, nums[0],add, sub, mul, div)\n",
    "print(max_answer)\n",
    "print(min_answer)"
   ]
  }
 ],
 "metadata": {
  "kernelspec": {
   "display_name": "Python 3",
   "language": "python",
   "name": "python3"
  },
  "language_info": {
   "codemirror_mode": {
    "name": "ipython",
    "version": 3
   },
   "file_extension": ".py",
   "mimetype": "text/x-python",
   "name": "python",
   "nbconvert_exporter": "python",
   "pygments_lexer": "ipython3",
   "version": "3.8.8"
  }
 },
 "nbformat": 4,
 "nbformat_minor": 5
}
