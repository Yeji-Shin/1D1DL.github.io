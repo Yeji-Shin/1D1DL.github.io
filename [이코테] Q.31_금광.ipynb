{
 "cells": [
  {
   "cell_type": "code",
   "execution_count": 2,
   "id": "433a7eba",
   "metadata": {},
   "outputs": [
    {
     "name": "stdout",
     "output_type": "stream",
     "text": [
      "1\n",
      "3 3\n",
      "1 3 3 2 1 4 0 6 4\n",
      "12\n"
     ]
    }
   ],
   "source": [
    "t = int(input())\n",
    "for tc in range(t):\n",
    "    n,m = map(int, input().split())\n",
    "    data = list(map(int, input().split()))\n",
    "    \n",
    "    # 2차원 dp 테이블 초기화 \n",
    "    dp = []\n",
    "    index = 0\n",
    "    for i in range(n):\n",
    "        dp.append(data[index:index+m])\n",
    "        index += m\n",
    "    \n",
    "    # 다이나믹 프로그래밍 진행\n",
    "    for j in range(1,m):  # 각 열에 대해 진행 (첫 번째 열은 할 필요없이 그대로 두면 됨)\n",
    "        for i in range(n): \n",
    "            # 왼쪽 위에서 오는 경우\n",
    "            if i==0:  # 첫 번째 행인 경우는 왼쪽 위가 없음 \n",
    "                left_up = 0\n",
    "            else:\n",
    "                left_up = dp[i-1][j-1]\n",
    "                \n",
    "            # 왼쪽 아래에서 오는 경우\n",
    "            if i == n-1:  # 마지막 행인 경우는 왼쪽 아래가 없음 \n",
    "                left_down = 0\n",
    "            else:\n",
    "                left_down = dp[i+1][j-1]\n",
    "            \n",
    "            # 왼쪽에서 오는 경우 \n",
    "            left = dp[i][j-1]\n",
    "            \n",
    "            dp[i][j] = dp[i][j] + max(left_up, left_down, left)\n",
    "            \n",
    "    result = 0\n",
    "    for i in range(n):\n",
    "        result = max(result, dp[i][m-1])\n",
    "        \n",
    "    print(result)\n",
    "                \n",
    "            "
   ]
  }
 ],
 "metadata": {
  "kernelspec": {
   "display_name": "Python 3",
   "language": "python",
   "name": "python3"
  },
  "language_info": {
   "codemirror_mode": {
    "name": "ipython",
    "version": 3
   },
   "file_extension": ".py",
   "mimetype": "text/x-python",
   "name": "python",
   "nbconvert_exporter": "python",
   "pygments_lexer": "ipython3",
   "version": "3.8.8"
  }
 },
 "nbformat": 4,
 "nbformat_minor": 5
}
