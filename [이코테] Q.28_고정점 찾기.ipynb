{
 "cells": [
  {
   "cell_type": "code",
   "execution_count": 3,
   "id": "5f9a39bf",
   "metadata": {},
   "outputs": [
    {
     "name": "stdout",
     "output_type": "stream",
     "text": [
      "5\n",
      "-15 -6 1 3 7\n",
      "3\n"
     ]
    }
   ],
   "source": [
    "n = int(input())\n",
    "data = list(map(int, input().split()))\n",
    "\n",
    "def binary_search(array, start, end):\n",
    "    if start > end: \n",
    "        return None\n",
    "    \n",
    "    mid = (start+end)//2\n",
    "    if array[mid] == mid:\n",
    "        return mid\n",
    "    elif mid < array[mid]:\n",
    "        return binary_search(array, start, mid-1)\n",
    "    else:\n",
    "        return binary_search(array, mid+1, end)\n",
    "    \n",
    "answer = binary_search(data, 0, n-1)\n",
    "if answer ==None:\n",
    "    print(-1)\n",
    "else:\n",
    "    print(answer)"
   ]
  }
 ],
 "metadata": {
  "kernelspec": {
   "display_name": "Python 3",
   "language": "python",
   "name": "python3"
  },
  "language_info": {
   "codemirror_mode": {
    "name": "ipython",
    "version": 3
   },
   "file_extension": ".py",
   "mimetype": "text/x-python",
   "name": "python",
   "nbconvert_exporter": "python",
   "pygments_lexer": "ipython3",
   "version": "3.8.8"
  }
 },
 "nbformat": 4,
 "nbformat_minor": 5
}
