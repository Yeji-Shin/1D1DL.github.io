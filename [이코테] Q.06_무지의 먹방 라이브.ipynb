{
 "cells": [
  {
   "cell_type": "code",
   "execution_count": null,
   "id": "74963c7c",
   "metadata": {},
   "outputs": [],
   "source": [
    "# 시간이 적게 걸리는 음식부터 제거하기\n",
    "import heapq \n",
    "\n",
    "def solution(food_times, k):\n",
    "    \n",
    "    # 전체 음식을 다 먹는 시간보다 k가 크거나 같으면 -1\n",
    "    if sum(food_times) <= k:\n",
    "        return -1\n",
    "    \n",
    "    # 시간이 적게 걸리는 것 부터 제거하기 위한 우선순위 큐\n",
    "    q = []\n",
    "    for i in range(len(food_times)):\n",
    "        heapq.heappush(q, (food_times[i], i+1))  # (음식 시간, 음식 번호) 형태로 삽입\n",
    "    \n",
    "    sum_val = 0  # 먹기 위해 사용한 시간 \n",
    "    prev = 0  # 직전에 다 먹은 음식의 음식 시간 \n",
    "    food_count = len(food_times)  # 남은 음식의 개수\n",
    "    \n",
    "    while sum_val + ((q[0][0]-prev)*food_count) <= k:\n",
    "        now = heapq.heappop(q)[0]  # 현재 가장 작은 음식 시간\n",
    "        sum_val += (now-prev) *food_count\n",
    "        food_count -= 1  # 다 먹은 음식 제외\n",
    "        prev = now  # 이전 음식 시간 재설정 \n",
    "    \n",
    "    result = sorted(q, key=lambda x:x[1])  # 음식의 번호 기준으로 정렬\n",
    "    \n",
    "    return result[(k-sum_val) % food_count][1]"
   ]
  }
 ],
 "metadata": {
  "kernelspec": {
   "display_name": "Python 3",
   "language": "python",
   "name": "python3"
  },
  "language_info": {
   "codemirror_mode": {
    "name": "ipython",
    "version": 3
   },
   "file_extension": ".py",
   "mimetype": "text/x-python",
   "name": "python",
   "nbconvert_exporter": "python",
   "pygments_lexer": "ipython3",
   "version": "3.8.8"
  }
 },
 "nbformat": 4,
 "nbformat_minor": 5
}
