{
 "cells": [
  {
   "cell_type": "code",
   "execution_count": null,
   "id": "415acc3d",
   "metadata": {},
   "outputs": [],
   "source": [
    "# 완전 탐색: 모든 경우의 수를 다 따져보기 \n",
    "\n",
    "# 자물쇠의 크기를 대충 3배 정도로 키우고 열쇠를 왼쪽 위부터 시작해서 한 칸씩 이동시키기 \n",
    "\n",
    "# 90도 시계방향 회전\n",
    "def rotate(array):\n",
    "    n = len(array)  # 행의 길이\n",
    "    m = len(array[0])  # 열의 길이 \n",
    "    result = [[0]*n for _ in range(m)]\n",
    "    for i in range(n):\n",
    "        for j in range(m):\n",
    "            result[j][n-i-1] = array[i][j]\n",
    "    return result\n",
    "    \n",
    "# 자물쇠의 중간 부분이 모두 1인지 확인 \n",
    "def check(new_lock):\n",
    "    lock_len = len(new_lock)//3 \n",
    "    for i in range(lock_len, lock_len*2):\n",
    "        for j in range(lock_len, lock_len*2):\n",
    "            if new_lock[i][j] != 1:\n",
    "                return False\n",
    "    return True\n",
    "    \n",
    "def solution(key, lock):\n",
    "    \n",
    "    n = len(lock)\n",
    "    m = len(key)\n",
    "    new_lock = [[0]*(n*3) for _ in range(n*3)]  # 자물쇠의 크기 3배로 늘리기\n",
    "    \n",
    "    # 크기를 늘린 자물쇠의 중앙 부분에 기존의 자물쇠 값을 넣기\n",
    "    for i in range(n):   \n",
    "        for j in range(n):\n",
    "            new_lock[i+n][j+n] = lock[i][j]\n",
    "            \n",
    "    for rotation in range(4):\n",
    "        key = rotate(key)  # 열쇠회전\n",
    "        for x in range(n*2):  \n",
    "            for y in range(n*2):\n",
    "                # 자물쇠에 열쇠 넣기\n",
    "                for i in range(m): \n",
    "                    for j in range(m):\n",
    "                        new_lock[x+i][y+j] += key[i][j]\n",
    "                # 새로운 자물쇠에 열쇠가 맞는지 확인 \n",
    "                if check(new_lock) == True:\n",
    "                    return True\n",
    "                # 열쇠 다시 빼기\n",
    "                for i in range(m):\n",
    "                    for j in range(m):\n",
    "                        new_lock[x+i][y+j] -= key[i][j]\n",
    "                        \n",
    "    return False\n"
   ]
  }
 ],
 "metadata": {
  "kernelspec": {
   "display_name": "Python 3",
   "language": "python",
   "name": "python3"
  },
  "language_info": {
   "codemirror_mode": {
    "name": "ipython",
    "version": 3
   },
   "file_extension": ".py",
   "mimetype": "text/x-python",
   "name": "python",
   "nbconvert_exporter": "python",
   "pygments_lexer": "ipython3",
   "version": "3.8.8"
  }
 },
 "nbformat": 4,
 "nbformat_minor": 5
}
