{
 "cells": [
  {
   "cell_type": "code",
   "execution_count": 4,
   "id": "3c208575",
   "metadata": {},
   "outputs": [
    {
     "name": "stdout",
     "output_type": "stream",
     "text": [
      "2 20 50\n",
      "50 30\n",
      "20 40\n",
      "1\n"
     ]
    }
   ],
   "source": [
    "n, l, r = map(int, input().split())\n",
    "graph = []\n",
    "for _ in range(n):\n",
    "    graph.append(list(map(int, input().split())))\n",
    "\n",
    "dx = [-1,1,0,0]\n",
    "dy = [0,0,-1,1]\n",
    "\n",
    "from collections import deque\n",
    "\n",
    "def bfs(x,y,index):\n",
    "    \n",
    "    united = []  # (x,y)와 연결된 나라 정보 담는 리스트\n",
    "    united.append((x,y))\n",
    "    \n",
    "    q = deque()\n",
    "    q.append((x,y))\n",
    "    \n",
    "    union[x][y] = index\n",
    "    total = graph[x][y]  # 현재 연합의 총 인구수\n",
    "    union_count = 1  # 현재 연합의 국가 수\n",
    "    \n",
    "    while q: \n",
    "        x, y = q.popleft()\n",
    "        for i in range(4):\n",
    "            nx = x + dx[i]\n",
    "            ny = y + dy[i]\n",
    "            if 0<=nx<n and 0<=ny<n and union[nx][ny] == -1:\n",
    "                if l <= abs(graph[x][y]-graph[nx][ny]) <= r:\n",
    "                    united.append((nx,ny))\n",
    "                    q.append((nx,ny))\n",
    "                    union[nx][ny] = index\n",
    "                    total += graph[nx][ny]\n",
    "                    union_count += 1\n",
    "                    \n",
    "    # 인구 분배\n",
    "    for i, j in united:\n",
    "        graph[i][j] = total // union_count\n",
    "    \n",
    "    return union_count\n",
    "\n",
    "\n",
    "total_count = 0  # 총 인구 이동 횟수\n",
    "while True:\n",
    "    union = [[-1]*n for _ in range(n)]  # 그룹별로 같은 숫자 가지도록 하는 그래프\n",
    "    index = 0\n",
    "    for i in range(n):\n",
    "        for j in range(n):\n",
    "            if union[i][j] == -1:\n",
    "                bfs(i,j,index)\n",
    "                index += 1\n",
    "            \n",
    "    if index == n*n:\n",
    "        break\n",
    "    \n",
    "    total_count += 1\n",
    "    \n",
    "print(total_count)"
   ]
  }
 ],
 "metadata": {
  "kernelspec": {
   "display_name": "Python 3",
   "language": "python",
   "name": "python3"
  },
  "language_info": {
   "codemirror_mode": {
    "name": "ipython",
    "version": 3
   },
   "file_extension": ".py",
   "mimetype": "text/x-python",
   "name": "python",
   "nbconvert_exporter": "python",
   "pygments_lexer": "ipython3",
   "version": "3.8.8"
  }
 },
 "nbformat": 4,
 "nbformat_minor": 5
}
