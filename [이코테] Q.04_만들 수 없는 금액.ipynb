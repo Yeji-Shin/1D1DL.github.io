{
 "cells": [
  {
   "cell_type": "code",
   "execution_count": 2,
   "id": "c480d7d0",
   "metadata": {},
   "outputs": [
    {
     "name": "stdout",
     "output_type": "stream",
     "text": [
      "5\n",
      "3 2 1 1 9\n",
      "8\n"
     ]
    }
   ],
   "source": [
    "n = int(input())  # 동전의 개수\n",
    "data = list(map(int, input().split()))\n",
    "\n",
    "# 오름차순으로 정렬한 후에 하나씩 만들수 있는지 없는지 확인\n",
    "data.sort()\n",
    "\n",
    "# 1부터 target-1 까지의 값을 모두 만들수 있다고 가정\n",
    "target = 1\n",
    "for x in data:\n",
    "    if target < x:  # 현재 확인하는 동전의 단위가 target 이하인지 확인\n",
    "        break\n",
    "    target += x\n",
    "    \n",
    "print(target)"
   ]
  }
 ],
 "metadata": {
  "kernelspec": {
   "display_name": "Python 3",
   "language": "python",
   "name": "python3"
  },
  "language_info": {
   "codemirror_mode": {
    "name": "ipython",
    "version": 3
   },
   "file_extension": ".py",
   "mimetype": "text/x-python",
   "name": "python",
   "nbconvert_exporter": "python",
   "pygments_lexer": "ipython3",
   "version": "3.8.8"
  }
 },
 "nbformat": 4,
 "nbformat_minor": 5
}
