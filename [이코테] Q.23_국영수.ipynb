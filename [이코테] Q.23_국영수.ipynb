{
 "cells": [
  {
   "cell_type": "code",
   "execution_count": null,
   "id": "535be8b3",
   "metadata": {},
   "outputs": [],
   "source": [
    "n = int(input())\n",
    "score = []\n",
    "for _ in range(n):\n",
    "    score.append(input.split())\n",
    "    \n",
    "score.sort(key=lambda x: (-int(x[1]), int(x[2]), int(-x[3]), x[0]))\n",
    "           \n",
    "for s in score:\n",
    "    print(s[0])"
   ]
  },
  {
   "cell_type": "markdown",
   "id": "00360cc9",
   "metadata": {},
   "source": [
    "n = int(input())\n",
    "house = list(map(int, input().split()))\n",
    "\n",
    "dist = []\n",
    "for i in range(n):\n",
    "    for j in range(n):\n",
    "        dist += abs(hous[i]-house[j])\n",
    "        \n",
    "print(min(dist).index())"
   ]
  }
 ],
 "metadata": {
  "kernelspec": {
   "display_name": "Python 3",
   "language": "python",
   "name": "python3"
  },
  "language_info": {
   "codemirror_mode": {
    "name": "ipython",
    "version": 3
   },
   "file_extension": ".py",
   "mimetype": "text/x-python",
   "name": "python",
   "nbconvert_exporter": "python",
   "pygments_lexer": "ipython3",
   "version": "3.8.8"
  }
 },
 "nbformat": 4,
 "nbformat_minor": 5
}
