{
 "cells": [
  {
   "cell_type": "code",
   "execution_count": null,
   "id": "a3074e89",
   "metadata": {},
   "outputs": [],
   "source": [
    "def possible(answer):\n",
    "    for x, y, a in answer:\n",
    "        if a == 0:  # 기둥 \n",
    "            if y==0 or [x,y,1] in answer or [x-1,y,1] in answer or [x,y-1,0] in answer:\n",
    "                continue\n",
    "            return False\n",
    "        \n",
    "        if a == 1:  # 보 \n",
    "            if ([x-1,y,1] in answer and [x+1,y,1] in answer) or [x,y-1,0] in answer or [x+1,y-1,0] in answer: \n",
    "                continue \n",
    "            return False \n",
    "    return True\n",
    "\n",
    "def solution(n, build_frame):\n",
    "    answer = []\n",
    "    \n",
    "    for build in build_frame:\n",
    "        \n",
    "        x, y, a, b = build\n",
    "        \n",
    "        if b == 0:  # 삭제하는 경우\n",
    "            answer.remove([x,y,a])  # 일단 삭제해보고\n",
    "            if not possible(answer):  # 가능한 구조물인지 확인\n",
    "                answer.append([x,y,a])  # 가능한 구조물이 아니면 다시 설치\n",
    "                \n",
    "        if b == 1:  # 추가하는 경우\n",
    "            answer.append([x,y,a])  # 일단 추가해보고\n",
    "            if not possible(answer):  # 가능한 구조물인지 확인\n",
    "                answer.remove([x,y,a])  # 가능한 구조물이 아니면 다시 삭제\n",
    "                \n",
    "    return sorted(answer)"
   ]
  }
 ],
 "metadata": {
  "kernelspec": {
   "display_name": "Python 3",
   "language": "python",
   "name": "python3"
  },
  "language_info": {
   "codemirror_mode": {
    "name": "ipython",
    "version": 3
   },
   "file_extension": ".py",
   "mimetype": "text/x-python",
   "name": "python",
   "nbconvert_exporter": "python",
   "pygments_lexer": "ipython3",
   "version": "3.8.8"
  }
 },
 "nbformat": 4,
 "nbformat_minor": 5
}
