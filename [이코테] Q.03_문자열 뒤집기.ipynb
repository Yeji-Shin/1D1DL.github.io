{
 "cells": [
  {
   "cell_type": "code",
   "execution_count": 5,
   "id": "f306eaa1",
   "metadata": {},
   "outputs": [
    {
     "name": "stdout",
     "output_type": "stream",
     "text": [
      "0001100\n",
      "1\n"
     ]
    }
   ],
   "source": [
    "s = input()\n",
    "\n",
    "count0 = 0\n",
    "count1 = 0\n",
    "\n",
    "for i in range(0, len(s)-1):\n",
    "    # 다음수가 1이 되는 경우\n",
    "    if s[i] == '0' and s[i+1] == '1':\n",
    "        count1 +=1 \n",
    "    # 다음수가 0이 되는 경우\n",
    "    elif s[i] == '1' and s[i+1]=='0':\n",
    "        count0 += 1\n",
    "        \n",
    "print(min(count0, count1))"
   ]
  },
  {
   "cell_type": "code",
   "execution_count": 6,
   "id": "0d2e7002",
   "metadata": {},
   "outputs": [
    {
     "name": "stdout",
     "output_type": "stream",
     "text": [
      "0001100\n",
      "1\n"
     ]
    }
   ],
   "source": [
    "s = input()\n",
    "\n",
    "count0 = 0\n",
    "count1 = 0\n",
    "\n",
    "for i in range(0, len(s)-1):\n",
    "    if s[i] != s[i+1]:  # 다음 수가 현재의 수와 다른 경우 \n",
    "        # 다음수가 1이 되는 경우\n",
    "        if s[i+1] == '1':\n",
    "            count1 +=1 \n",
    "        # 다음수가 0이 되는 경우\n",
    "        elif s[i+1]=='0':\n",
    "            count0 += 1\n",
    "        \n",
    "print(min(count0, count1))"
   ]
  }
 ],
 "metadata": {
  "kernelspec": {
   "display_name": "Python 3",
   "language": "python",
   "name": "python3"
  },
  "language_info": {
   "codemirror_mode": {
    "name": "ipython",
    "version": 3
   },
   "file_extension": ".py",
   "mimetype": "text/x-python",
   "name": "python",
   "nbconvert_exporter": "python",
   "pygments_lexer": "ipython3",
   "version": "3.8.8"
  }
 },
 "nbformat": 4,
 "nbformat_minor": 5
}
