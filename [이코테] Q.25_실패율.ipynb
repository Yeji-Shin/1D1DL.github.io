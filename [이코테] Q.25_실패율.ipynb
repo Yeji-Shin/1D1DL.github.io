{
 "cells": [
  {
   "cell_type": "code",
   "execution_count": null,
   "id": "7d09341d",
   "metadata": {},
   "outputs": [],
   "source": [
    "# 풀이 1\n",
    "\n",
    "from collections import Counter\n",
    "\n",
    "def solution(N, stages):\n",
    "    \n",
    "    result = {}\n",
    "    try_num = len(stages)\n",
    "    counter = Counter(stages)\n",
    "\n",
    "    for i in range(1,N+1):\n",
    "        fail_num = counter[i]\n",
    "        if try_num != 0:\n",
    "            result[i] = fail_num / try_num\n",
    "            try_num -= counter[i]\n",
    "        else:\n",
    "            result[i] = 0\n",
    "\n",
    "    return sorted(result, key=lambda x:result[x], reverse=True)"
   ]
  },
  {
   "cell_type": "code",
   "execution_count": null,
   "id": "fbdd292d",
   "metadata": {},
   "outputs": [],
   "source": [
    "# 풀이 2\n",
    "\n",
    "def solution(N, stages):\n",
    "\n",
    "    result = {}\n",
    "    denominator = len(stages)\n",
    "    \n",
    "    for stage in range(1,N+1):\n",
    "        if denominator != 0:\n",
    "            count = stages.count(stage)\n",
    "            result[stage] = count/denominator \n",
    "            denominator -= count \n",
    "        else:\n",
    "            result[stage]=0\n",
    "            \n",
    "    return sorted(result, key=lambda x:result[x], reverse=True)"
   ]
  },
  {
   "cell_type": "code",
   "execution_count": null,
   "id": "675c3659",
   "metadata": {},
   "outputs": [],
   "source": [
    "# 풀이 3\n",
    "\n",
    "def solution(n, stages):\n",
    "    answer = []\n",
    "    length = len(stages)\n",
    "    \n",
    "    for i in range(1, N+1):\n",
    "        count = stages.count(i)  # 해당 스테이지에 있는 사람의 수 계산 \n",
    "        \n",
    "        if length == 0:\n",
    "            fail = 0\n",
    "        else:\n",
    "            fail = count/length\n",
    "            \n",
    "        answer.append((i, fail))\n",
    "        length -= count\n",
    "        \n",
    "    answer = sorted(answer, key=lambda x: x[1], reverse=True)\n",
    "    answer= [i[0] for i in answer]\n",
    "    \n",
    "    return answer "
   ]
  },
  {
   "cell_type": "code",
   "execution_count": 7,
   "id": "bee5b481",
   "metadata": {},
   "outputs": [
    {
     "name": "stdout",
     "output_type": "stream",
     "text": [
      "[('aadi', 31), ('john', 30), ('mathew', 29), ('sachin', 28), ('riti', 27), ('sam', 23)]\n",
      "['john', 'riti', 'sam', 'mathew', 'aadi', 'sachin']\n",
      "['john', 'riti', 'sam']\n",
      "['aadi', 'john', 'mathew', 'sachin', 'riti', 'sam']\n",
      "['sam', 'sachin', 'riti', 'mathew', 'john', 'aadi']\n"
     ]
    }
   ],
   "source": [
    "# 딕셔너리 정렬\n",
    "\n",
    "score_dict = {\n",
    "    'sam':23,\n",
    "    'john':30,\n",
    "    'mathew':29,\n",
    "    'riti':27,\n",
    "    'aadi':31,\n",
    "    'sachin':28\n",
    "}\n",
    "\n",
    "# 점수별로 정렬 - 데이터가 다 나옴\n",
    "new_dict = sorted(score_dict.items(), key=lambda x:x[1], reverse=True)\n",
    "print(new_dict)\n",
    "\n",
    "# 점수별로 정렬 - 이름만 나옴\n",
    "new_dict = sorted(score_dict, key=lambda x:x[1], reverse=True)\n",
    "print(new_dict)\n",
    "\n",
    "# 점수가 높은 3명만 뽑기 - 이름만 나옴\n",
    "new_dict = sorted(score_dict, key=lambda x:x[1], reverse=True)[:3]\n",
    "print(new_dict)\n",
    "\n",
    "# 점수별로 정렬 - 이름만 나옴\n",
    "new_dict = sorted(score_dict, key=lambda x:score_dict[x], reverse=True)\n",
    "print(new_dict)\n",
    "\n",
    "# 이름순으로 정렬 - 이름만 나옴\n",
    "new_dict = sorted(score_dict, key=lambda x:x[0], reverse=True)\n",
    "print(new_dict)\n",
    "\n"
   ]
  },
  {
   "cell_type": "code",
   "execution_count": 13,
   "id": "a29c045e",
   "metadata": {},
   "outputs": [
    {
     "name": "stdout",
     "output_type": "stream",
     "text": [
      "Counter({'l': 3, 'o': 2, 'H': 1, 'e': 1, ' ': 1, 'W': 1, 'r': 1, 'd': 1})\n",
      "{'H': 1, 'e': 1, 'l': 3, 'o': 2, ' ': 1, 'W': 1, 'r': 1, 'd': 1}\n",
      "3\n",
      "[('l', 3), ('o', 2), ('H', 1), ('e', 1), (' ', 1), ('W', 1), ('r', 1), ('d', 1)]\n",
      "[('l', 3)]\n"
     ]
    }
   ],
   "source": [
    "# collections.Counter를 이용한 카운팅\n",
    "\n",
    "from collections import Counter \n",
    "\n",
    "counter = Counter('Hello World')\n",
    "print(counter)\n",
    "print(dict(counter))\n",
    "print(counter['l'])\n",
    "print(counter.most_common())  # 데이터 개수가 많은 순으로 정렬\n",
    "print(counter.most_common(1))  # 데이터 개수가 많은 순으로 1개만 표시"
   ]
  }
 ],
 "metadata": {
  "kernelspec": {
   "display_name": "Python 3",
   "language": "python",
   "name": "python3"
  },
  "language_info": {
   "codemirror_mode": {
    "name": "ipython",
    "version": 3
   },
   "file_extension": ".py",
   "mimetype": "text/x-python",
   "name": "python",
   "nbconvert_exporter": "python",
   "pygments_lexer": "ipython3",
   "version": "3.8.8"
  }
 },
 "nbformat": 4,
 "nbformat_minor": 5
}
