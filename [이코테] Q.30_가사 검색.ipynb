{
 "cells": [
  {
   "cell_type": "code",
   "execution_count": null,
   "id": "05741577",
   "metadata": {},
   "outputs": [],
   "source": [
    "from bisect import bisect_left, bisect_right\n",
    "\n",
    "# 값이 [left_val, right_val]인 데이터 개수 반환\n",
    "# 'fro??'이 들어오면 [froaa, frozz] 사이에 있는 것 확인하면 됨\n",
    "def count_by_range(array, left_val, right_val):\n",
    "    a = bisect_left(array, left_val)\n",
    "    b = bisect_right(array, right_val)\n",
    "    return b-a\n",
    "\n",
    "# 단어를 길이에 따라서 나눠서 저장하기 위한 리스트\n",
    "array = [[] for _ in range(10001)]  # 검색 키워드의 길이는 1 이상 10,000 이하\n",
    "# 길이에 따라 나눠서 반대로 저장\n",
    "reversed_array = [[] for _ in range(10001)]  # \"????o\" 처리하기 위함 \n",
    "\n",
    "def solution(words, queries):\n",
    "    answer = []\n",
    "    for word in words: \n",
    "        array[len(word)].append(word)  # 길이에 따라 단어 삽입\n",
    "        reversed_array[len(word)].append(word[::-1])  # 단어 순서 뒤집어서 삽입\n",
    "        \n",
    "    # 이진 탐색을 위해 단어 리스트 정렬 수행\n",
    "    for i in range(10001):\n",
    "        array[i].sort()\n",
    "        reversed_array[i].sort()\n",
    "            \n",
    "    # 쿼리하나씩 확인하면서 처리\n",
    "    for q in queries:\n",
    "        if q[0] != '?':  # 접미사에 와일드카드가 붙은 경우\n",
    "            result = count_by_range(array[len(q)], q.replace('?', 'a'), q.replace('?', 'z'))\n",
    "        else:\n",
    "            result = count_by_range(reversed_array[len(q)], q[::-1].replace('?','a'), q[::-1].replace('?','z'))\n",
    "            \n",
    "        answer.append(result)\n",
    "    return answer"
   ]
  },
  {
   "cell_type": "code",
   "execution_count": 1,
   "id": "413bf3e6",
   "metadata": {},
   "outputs": [
    {
     "name": "stdout",
     "output_type": "stream",
     "text": [
      "123?456?789?999\n",
      "123?456,789,999\n",
      "123?456?789,999\n",
      "123?456?789?999\n"
     ]
    }
   ],
   "source": [
    "# replace\n",
    "\n",
    "# replace(old, new, [count]) -> replace(\"찾을값\", \"바꿀값\", [바꿀횟수])\n",
    "\n",
    "text = '123,456,789,999'\n",
    "\n",
    "# 모든 ,를 다 바꾸기\n",
    "replace_all= text.replace(\",\", \"?\")\n",
    "print(replace_all)\n",
    "\n",
    "# 앞에서 부터 첫번째 ,를 바꾸기\n",
    "replace_t1 = text.replace(\",\", \"?\",1)\n",
    "print(replace_t1)\n",
    "\n",
    "replace_t2 = text.replace(\",\", \"?\",2)\n",
    "print(replace_t2)\n",
    "\n",
    "replace_t3 = text.replace(\",\", \"?\",3)\n",
    "print(replace_t3)\n"
   ]
  }
 ],
 "metadata": {
  "kernelspec": {
   "display_name": "Python 3",
   "language": "python",
   "name": "python3"
  },
  "language_info": {
   "codemirror_mode": {
    "name": "ipython",
    "version": 3
   },
   "file_extension": ".py",
   "mimetype": "text/x-python",
   "name": "python",
   "nbconvert_exporter": "python",
   "pygments_lexer": "ipython3",
   "version": "3.8.8"
  }
 },
 "nbformat": 4,
 "nbformat_minor": 5
}
