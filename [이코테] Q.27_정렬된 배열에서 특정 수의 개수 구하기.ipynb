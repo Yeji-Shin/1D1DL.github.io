{
 "cells": [
  {
   "cell_type": "code",
   "execution_count": 5,
   "id": "7cbfc16e",
   "metadata": {},
   "outputs": [
    {
     "name": "stdout",
     "output_type": "stream",
     "text": [
      "7 2\n",
      "1 1 2 2 2 2 3\n",
      "4\n"
     ]
    }
   ],
   "source": [
    "# 풀이 1: 직접 이진 탐색 구현\n",
    "\n",
    "n, x = map(int, input().split())\n",
    "data = list(map(int, input().split()))\n",
    "\n",
    "# 처음 위치를 찾는 이진 탐색\n",
    "def binary_search_first(array, left, right, target):\n",
    "    # 값을 못 찾는 경우 \n",
    "    if left > right:\n",
    "        return None \n",
    "\n",
    "    mid = (left+right)//2\n",
    "    # target 값을 가지는 원소중에서 가장 왼쪽에 있는 경우에만 인덱스 반환 \n",
    "    if (mid==0 or target>array[mid-1]) and array[mid] == target:\n",
    "        return mid\n",
    "    elif target > array[mid]:\n",
    "        return binary_search_first(array, mid+1, right, target) \n",
    "    else: # target <= array[mid]\n",
    "        return binary_search_first(array, left, mid-1, target)\n",
    "\n",
    "# 마지막 위치를 찾는 이진 탐색\n",
    "def binary_search_last(array, left, right, target):\n",
    "    if left > right:\n",
    "        return None\n",
    "    \n",
    "    mid = (left+right)//2\n",
    "    if (mid==n-1 or target<array[mid+1]) and array[mid] == target:\n",
    "        return mid\n",
    "    elif target >= array[mid]:\n",
    "        return binary_search_last(array, mid+1, right, target)\n",
    "    else:\n",
    "        return binary_search_last(array, left, mid-1, target)\n",
    "    \n",
    "def count(array, x):\n",
    "    n = len(array)\n",
    "    \n",
    "    # x가 처음 등장한 인덱스\n",
    "    a = binary_search_first(array, 0, n-1, x)\n",
    "    # x가 등장하지 않을 때 0을 반환\n",
    "    if a == None:\n",
    "        return 0\n",
    "    \n",
    "    # x가 마지막으로 등장한 인덱스\n",
    "    b = binary_search_last(array, 0, n-1, x)\n",
    "    \n",
    "    # 개수 반환\n",
    "    return b-a+1\n",
    "\n",
    "answer = count(data, x)\n",
    "if answer == 0:\n",
    "    print(-1)\n",
    "else:\n",
    "    print(answer)"
   ]
  },
  {
   "cell_type": "code",
   "execution_count": 6,
   "id": "b1e1e5f8",
   "metadata": {},
   "outputs": [
    {
     "name": "stdout",
     "output_type": "stream",
     "text": [
      "7 2\n",
      "1 1 2 2 2 2 3\n",
      "4\n"
     ]
    }
   ],
   "source": [
    "# 풀이 2: bisect 함수로 구현\n",
    "\n",
    "from bisect import bisect_left, bisect_right\n",
    "\n",
    "# [left_val, right_val] 범위에 속하는 데이터의 개수 반환\n",
    "def count_range(array, left_val, right_val):\n",
    "    a = bisect_left(array, left_val)\n",
    "    b = bisect_right(array, right_val)\n",
    "    return b-a\n",
    "\n",
    "n, x = map(int, input().split())\n",
    "data = list(map(int, input().split()))\n",
    "\n",
    "answer = count_range(data, x, x)\n",
    "if answer == 0:\n",
    "    print(-1)\n",
    "else:\n",
    "    print(answer)"
   ]
  }
 ],
 "metadata": {
  "kernelspec": {
   "display_name": "Python 3",
   "language": "python",
   "name": "python3"
  },
  "language_info": {
   "codemirror_mode": {
    "name": "ipython",
    "version": 3
   },
   "file_extension": ".py",
   "mimetype": "text/x-python",
   "name": "python",
   "nbconvert_exporter": "python",
   "pygments_lexer": "ipython3",
   "version": "3.8.8"
  }
 },
 "nbformat": 4,
 "nbformat_minor": 5
}
