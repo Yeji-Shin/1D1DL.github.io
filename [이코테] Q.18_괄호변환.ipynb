{
 "cells": [
  {
   "cell_type": "code",
   "execution_count": null,
   "id": "065aae98",
   "metadata": {},
   "outputs": [],
   "source": [
    "# 처음으로 균형잡힌 괄호 문자열이 되는 인덱스 반환\n",
    "def balance_index(s):\n",
    "    count = 0  # 여는 괄호의 개수\n",
    "    for i in range(len(s)):\n",
    "        if s[i] == '(':\n",
    "            count += 1\n",
    "        else:\n",
    "            count -= 1\n",
    "        if count == 0:\n",
    "            return i\n",
    "\n",
    "# 올바른 괄호 문자열인지 판단\n",
    "def isproper(s):\n",
    "    count = 0\n",
    "    for i in s:\n",
    "        if i == '(':\n",
    "            count += 1\n",
    "        else:\n",
    "            if count == 0:\n",
    "                return False\n",
    "            count -= 1\n",
    "    return True \n",
    "       \n",
    "def solution(p):\n",
    "    answer = ''\n",
    "    if p == '':\n",
    "        return answer\n",
    "    index = balance_index(p)\n",
    "    u = p[:index+1]\n",
    "    v = p[index+1:]\n",
    "    \n",
    "    # u가 올바른 문자열이면 v에 대해 함수를 수행한 결과를 붙여 반환\n",
    "    if isproper(u):\n",
    "        answer = u + solution(v)\n",
    "    # u가 올바른 문자열이 아니면 아래 과정을 수행\n",
    "    else:\n",
    "        answer = '('\n",
    "        answer += solution(v)\n",
    "        answer += ')'\n",
    "        u = list(u[1:-1])\n",
    "        for i in range(len(u)):\n",
    "            if u[i] == '(':\n",
    "                u[i] = ')'\n",
    "            else:\n",
    "                u[i] = '('\n",
    "                \n",
    "        answer += ''.join(u)\n",
    "    return answer"
   ]
  },
  {
   "cell_type": "code",
   "execution_count": null,
   "id": "892c7199",
   "metadata": {},
   "outputs": [],
   "source": [
    "def balanced(b): \n",
    "    return b.count('(') == b.count(')')\n",
    "\n",
    "def correct(c):\n",
    "    cnt = 0\n",
    "    for i in range(len(c)):\n",
    "        cnt = cnt + 1 if c[i] == '(' else cnt - 1\n",
    "        if cnt < 0: return False\n",
    "    return True"
   ]
  }
 ],
 "metadata": {
  "kernelspec": {
   "display_name": "Python 3",
   "language": "python",
   "name": "python3"
  },
  "language_info": {
   "codemirror_mode": {
    "name": "ipython",
    "version": 3
   },
   "file_extension": ".py",
   "mimetype": "text/x-python",
   "name": "python",
   "nbconvert_exporter": "python",
   "pygments_lexer": "ipython3",
   "version": "3.8.8"
  }
 },
 "nbformat": 4,
 "nbformat_minor": 5
}
