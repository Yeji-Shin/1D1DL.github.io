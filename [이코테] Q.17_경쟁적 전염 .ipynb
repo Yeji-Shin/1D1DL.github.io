{
 "cells": [
  {
   "cell_type": "code",
   "execution_count": 4,
   "id": "707c0e1a",
   "metadata": {},
   "outputs": [
    {
     "name": "stdout",
     "output_type": "stream",
     "text": [
      "3 3\n",
      "1 0 2\n",
      "0 0 0\n",
      "3 0 0 \n",
      "2 3 2\n",
      "3\n"
     ]
    }
   ],
   "source": [
    "from collections import deque\n",
    "\n",
    "n, k = map(int, input().split())\n",
    "graph = []\n",
    "for _ in range(n):\n",
    "    graph.append(list(map(int, input().split())))\n",
    "target_s, target_x, target_y = map(int, input().split())  # s초 뒤의 (x,y)위치의 값 구하기 \n",
    "\n",
    "virus = []\n",
    "for i in range(n):\n",
    "    for j in range(n): \n",
    "        if graph[i][j] != 0:\n",
    "            virus.append([graph[i][j], 0, i, j])\n",
    "\n",
    "dx = [-1,1,0,0]\n",
    "dy = [0,0,-1,1]\n",
    "\n",
    "virus.sort()  # 처음에만 sorting해서 넣으면 됨 \n",
    "q = deque(virus)\n",
    "\n",
    "while q:\n",
    "    v, s, x, y = q.popleft()\n",
    "    \n",
    "    if s == target_s:\n",
    "        break\n",
    "\n",
    "    for i in range(4):\n",
    "        nx = x + dx[i]\n",
    "        ny = y + dy[i]\n",
    "        if 0<=nx<n and 0<=ny<n and graph[nx][ny]==0:\n",
    "            graph[nx][ny] = v\n",
    "            q.append((v, s+1, nx, ny))\n",
    "\n",
    "\n",
    "print(graph[target_x-1][target_y-1])"
   ]
  }
 ],
 "metadata": {
  "kernelspec": {
   "display_name": "Python 3",
   "language": "python",
   "name": "python3"
  },
  "language_info": {
   "codemirror_mode": {
    "name": "ipython",
    "version": 3
   },
   "file_extension": ".py",
   "mimetype": "text/x-python",
   "name": "python",
   "nbconvert_exporter": "python",
   "pygments_lexer": "ipython3",
   "version": "3.8.8"
  }
 },
 "nbformat": 4,
 "nbformat_minor": 5
}
