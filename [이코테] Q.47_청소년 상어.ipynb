{
 "cells": [
  {
   "cell_type": "code",
   "execution_count": 10,
   "id": "9ad12ce2",
   "metadata": {},
   "outputs": [
    {
     "name": "stdout",
     "output_type": "stream",
     "text": [
      "7 6 2 3 15 6 9 8\n",
      "3 1 1 8 14 7 10 1\n",
      "6 1 13 6 4 3 11 4\n",
      "16 1 8 7 5 2 12 2\n",
      "33\n"
     ]
    }
   ],
   "source": [
    "graph = [[None]*4 for _ in range(4)]\n",
    "\n",
    "# 데이터 입력받기\n",
    "for i in range(4):\n",
    "    data = list(map(int, input().split()))\n",
    "    for j in range(4):\n",
    "        graph[i][j] = [data[j*2], data[j*2+1]-1]\n",
    "\n",
    "# 특정 번호의 물고기 찾기\n",
    "def find_fish(graph, index):\n",
    "    for i in range(4):\n",
    "        for j in range(4):\n",
    "            if graph[i][j][0] == index:\n",
    "                return (i, j)\n",
    "    return None\n",
    "            \n",
    "    \n",
    "# 이동방향 정의\n",
    "dx = [-1, -1, 0, 1, 1, 1, 0, -1]\n",
    "dy = [0, -1, -1, -1, 0, 1, 1, 1]\n",
    "\n",
    "\n",
    "# 물고기 이동 \n",
    "def fish_move(graph, now_x, now_y):\n",
    "    for idx in range(1,17):  # 1번 물고기부터 순서대로 진행\n",
    "        \n",
    "        position = find_fish(graph, idx) \n",
    "        if position != None:  # 물고기가 먹혀서 없을 경우도 있음 \n",
    "            x, y = position[0], position[1]\n",
    "            dir = graph[x][y][1]\n",
    "            \n",
    "            for _ in range(8):\n",
    "                nx = x + dx[dir]\n",
    "                ny = y + dy[dir]\n",
    "                if 0<=nx<4 and 0<=ny<4:  # 공간을 벗어나지 않으면 두 물고기 위치 바꾸기\n",
    "                    if not (nx==now_x and ny==now_y):\n",
    "                        graph[x][y][1] = dir\n",
    "                        graph[x][y], graph[nx][ny] = graph[nx][ny], graph[x][y]\n",
    "                        break\n",
    "                dir = (dir+1)%8  # 공간을 벗어나면 방향을 반시계방향으로 돌리기\n",
    "\n",
    "                \n",
    "# 상어가 현재 방향으로 이동하면서 먹을 수 있는 물고기들의 위치\n",
    "def eat_possible_positions(graph, now_x, now_y):\n",
    "    positions = []\n",
    "    direction = graph[now_x][now_y][1]\n",
    "    for _ in range(4):\n",
    "        now_x += dx[direction]\n",
    "        now_y += dy[direction]\n",
    "        \n",
    "        if 0<=now_x<4 and 0<=now_y<4:\n",
    "            if graph[now_x][now_y] != -1:\n",
    "                positions.append((now_x, now_y))\n",
    "                \n",
    "    return positions\n",
    "\n",
    "\n",
    "import copy\n",
    "\n",
    "result = 0\n",
    "def dfs(graph, now_x, now_y, total):\n",
    "    global result\n",
    "    graph = copy.deepcopy(graph)\n",
    "    \n",
    "    total += graph[now_x][now_y][0]  # 현재 위치의 물고기 먹기\n",
    "    graph[now_x][now_y][0] = -1  # 물고기를 먹으면 번호 값을 -1로 변환\n",
    "    \n",
    "    fish_move(graph, now_x, now_y)\n",
    "    \n",
    "    positions = eat_possible_positions(graph, now_x, now_y)\n",
    "    if len(positions) == 0:\n",
    "        result = max(result, total)\n",
    "        return\n",
    "    for next_x, next_y in positions:\n",
    "        dfs(graph, next_x, next_y, total)\n",
    "        \n",
    "dfs(graph, 0, 0,0)\n",
    "print(result)"
   ]
  },
  {
   "cell_type": "code",
   "execution_count": null,
   "id": "cd199dfb",
   "metadata": {},
   "outputs": [],
   "source": [
    "7 6 2 3 15 6 9 8\n",
    "3 1 1 8 14 7 10 1\n",
    "6 1 13 6 4 3 11 4\n",
    "16 1 8 7 5 2 12 2"
   ]
  }
 ],
 "metadata": {
  "kernelspec": {
   "display_name": "Python 3",
   "language": "python",
   "name": "python3"
  },
  "language_info": {
   "codemirror_mode": {
    "name": "ipython",
    "version": 3
   },
   "file_extension": ".py",
   "mimetype": "text/x-python",
   "name": "python",
   "nbconvert_exporter": "python",
   "pygments_lexer": "ipython3",
   "version": "3.8.8"
  }
 },
 "nbformat": 4,
 "nbformat_minor": 5
}
