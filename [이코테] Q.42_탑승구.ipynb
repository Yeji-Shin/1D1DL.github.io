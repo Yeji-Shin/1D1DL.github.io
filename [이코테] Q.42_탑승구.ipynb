{
 "cells": [
  {
   "cell_type": "code",
   "execution_count": null,
   "id": "1c1e7c09",
   "metadata": {},
   "outputs": [],
   "source": [
    "# 서로소 문제\n",
    "\n",
    "'''\n",
    "비행기가 순서대로 도킹됨 -> 이게 힌트! \n",
    "1. 가능한 큰 번호의 탑승구로 도킹 시행\n",
    "2. 도킹이 되면 바로 앞의 집합과 합치기\n",
    "3. 집합의 루트가 0이 되면 더 이상 도킹할 수 없기 때문에 종료\n",
    "'''\n",
    "\n",
    "def find_parent(parent, x):\n",
    "    if parent[x] != x:\n",
    "        parent[x] = find_parent(parent, parent[x])\n",
    "    return parent[x]\n",
    "\n",
    "def union(parent, a, b):\n",
    "    a = find_parent(a)\n",
    "    b = find_parent(b)\n",
    "    if a < b:\n",
    "        parent[b] = a\n",
    "    else:\n",
    "        parent[a] = b\n",
    "    \n",
    "g = int(input())  # 탑승구 수\n",
    "p = int(input())  # 비행기 수\n",
    "\n",
    "parent = [0] * (g+1)\n",
    "for i in range(1, g+1):\n",
    "    parent[i] = i\n",
    "    \n",
    "result = 0\n",
    "for _ in range(p):\n",
    "    data = find_parent(int(input()))\n",
    "    if data == 0:  # 도킹이 불가능하면 종료\n",
    "        break\n",
    "    else:  # 도킹이 가능하면 바로 앞의 집합과 합치기\n",
    "        union(parent, data, data-1)\n",
    "        result += 1\n",
    "        \n",
    "print(result)"
   ]
  }
 ],
 "metadata": {
  "kernelspec": {
   "display_name": "Python 3",
   "language": "python",
   "name": "python3"
  },
  "language_info": {
   "codemirror_mode": {
    "name": "ipython",
    "version": 3
   },
   "file_extension": ".py",
   "mimetype": "text/x-python",
   "name": "python",
   "nbconvert_exporter": "python",
   "pygments_lexer": "ipython3",
   "version": "3.8.8"
  }
 },
 "nbformat": 4,
 "nbformat_minor": 5
}
