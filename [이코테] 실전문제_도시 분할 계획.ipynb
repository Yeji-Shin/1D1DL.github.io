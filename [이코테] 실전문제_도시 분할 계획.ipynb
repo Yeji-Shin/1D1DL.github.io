{
 "cells": [
  {
   "cell_type": "code",
   "execution_count": 2,
   "id": "a2488547",
   "metadata": {},
   "outputs": [
    {
     "name": "stdout",
     "output_type": "stream",
     "text": [
      "7 12\n",
      "1 2 3\n",
      "1 3 2\n",
      "3 2 1\n",
      "2 5 2\n",
      "3 4 4\n",
      "7 3 6\n",
      "5 1 5\n",
      "1 6 2\n",
      "6 4 1\n",
      "6 5 3\n",
      "4 5 3\n",
      "6 7 4\n",
      "8\n"
     ]
    }
   ],
   "source": [
    "# 2개의 최소 신장 트리 만들기\n",
    "\n",
    "# 크루스칼 알고리즘으로 최소 신장 트리를 찾은 후에 가장 비용이 큰 간선을 제거하면 됨\n",
    "\n",
    "# 사이클을 이루는지 확인하기 위한 함수\n",
    "def find_parent(parent,x):\n",
    "    if parent[x] != x:\n",
    "        parent[x] = find_parent(parent, parent[x])\n",
    "    return parent[x]\n",
    "\n",
    "# union\n",
    "def union(parent, a, b):\n",
    "    a = find_parent(parent, a)\n",
    "    b = find_parent(parent, b)\n",
    "    if a < b:\n",
    "        parent[b] = a\n",
    "    else:\n",
    "        parent[a] = b \n",
    "        \n",
    "n, m = map(int, input().split())\n",
    "\n",
    "edges = []\n",
    "for _ in range(m):\n",
    "    a, b, c = map(int, input().split())\n",
    "    edges.append((c, a, b))  # a와 b를 연결하는 간선의 비용은 c\n",
    "edges.sort()  # 가장 비용이 낮은 간선부터 포함하기 위해 오름차순 정렬\n",
    "\n",
    "parent = [0] * (n+1)\n",
    "for i in range(n+1):\n",
    "    parent[i] = i\n",
    "    \n",
    "result = [] # 최소 신장트리의 비용\n",
    "for edge in edges:\n",
    "    cost, a, b = edge\n",
    "    # 사이클이 안되면 union 실행\n",
    "    if find_parent(parent, a) != find_parent(parent, b):\n",
    "        union(parent, a, b)\n",
    "        result.append(cost)\n",
    "        \n",
    "print(sum(result)-max(result))"
   ]
  },
  {
   "cell_type": "code",
   "execution_count": null,
   "id": "5807c3b4",
   "metadata": {},
   "outputs": [],
   "source": [
    "result = 0 # 최소 신장트리의 비용\n",
    "last = 0  # 최소 신장트리에서 가장 비용이 큰 간선 (cost로 오름차순 정렬한 후에 순서대로 진행하기 때문)\n",
    "for edge in edges:\n",
    "    cost, a, b = edge\n",
    "    # 사이클이 안되면 union 실행\n",
    "    if find_parent(parent, a) != find_parent(parent, b):\n",
    "        union(parent, a, b)\n",
    "        result += cost\n",
    "        last = cost\n",
    "        \n",
    "print(result-last)"
   ]
  }
 ],
 "metadata": {
  "kernelspec": {
   "display_name": "Python 3",
   "language": "python",
   "name": "python3"
  },
  "language_info": {
   "codemirror_mode": {
    "name": "ipython",
    "version": 3
   },
   "file_extension": ".py",
   "mimetype": "text/x-python",
   "name": "python",
   "nbconvert_exporter": "python",
   "pygments_lexer": "ipython3",
   "version": "3.8.8"
  }
 },
 "nbformat": 4,
 "nbformat_minor": 5
}
