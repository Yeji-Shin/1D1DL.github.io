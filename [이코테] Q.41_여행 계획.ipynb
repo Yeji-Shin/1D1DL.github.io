{
 "cells": [
  {
   "cell_type": "code",
   "execution_count": 6,
   "id": "bfb18770",
   "metadata": {},
   "outputs": [
    {
     "name": "stdout",
     "output_type": "stream",
     "text": [
      "5 4\n",
      "0 1 0 1 1\n",
      "1 0 1 1 0\n",
      "0 1 0 0 0\n",
      "1 1 0 0 0\n",
      "1 0 0 0 0\n",
      "2 3 4 3\n",
      "YES\n"
     ]
    }
   ],
   "source": [
    "# 여행 계획에 속하는 노드들이 모두 같은 집합에 있으면 여행 가능\n",
    "\n",
    "def find_parent(parent, x):\n",
    "    if parent[x] != x:\n",
    "        parent[x] = find_parent(parent, parent[x])\n",
    "    return parent[x]\n",
    "\n",
    "def union(parent, a, b):\n",
    "    a = find_parent(parent, a)\n",
    "    b = find_parent(parent, b)\n",
    "    if a < b:\n",
    "        parent[b] = a\n",
    "    else:\n",
    "        parent[a] = b\n",
    "        \n",
    "n, m = map(int, input().split())\n",
    "graph = []\n",
    "for _ in range(n):\n",
    "    graph.append(list(map(int, input().split())))\n",
    "\n",
    "parent = [0] * (n)\n",
    "for i in range(n):\n",
    "    parent[i] = i\n",
    "    \n",
    "for i in range(n):\n",
    "    for j in range(n):\n",
    "        if graph[i][j] == 1:\n",
    "            if find_parent(parent,i) != find_parent(parent, j):\n",
    "                union(parent, i, j)\n",
    "                \n",
    "plan = list(map(int, input().split()))\n",
    "\n",
    "def is_possible(plan):    \n",
    "    for i in range(len(plan)-1):\n",
    "        if find_parent(parent, plan[i]-1) != find_parent(parent, plan[i+1]-1):\n",
    "            return False\n",
    "    return True\n",
    "\n",
    "if is_possible(plan):\n",
    "    print('YES')\n",
    "else:\n",
    "    print('NO')\n",
    "        "
   ]
  },
  {
   "cell_type": "code",
   "execution_count": null,
   "id": "c25a923c",
   "metadata": {},
   "outputs": [],
   "source": [
    "def find_parent(parent, x):\n",
    "    if parent[x] != x:\n",
    "        parent[x] = find_parent(parent, parent[x])\n",
    "    return parent[x]\n",
    "\n",
    "def union(parent, a, b):\n",
    "    a = find_parent(parent, a)\n",
    "    b = find_parent(parent, b)\n",
    "    if a < b:\n",
    "        parent[b] = a\n",
    "    else:\n",
    "        parent[a] = b\n",
    "        \n",
    "n, m = map(int, input().split())\n",
    "\n",
    "parent = [0] * (n+1)\n",
    "for i in range(1,n+1):\n",
    "    parent[i] = i\n",
    "    \n",
    "for i in range(n):\n",
    "    data = list(map(int, input().split()))\n",
    "    for j in range(n):\n",
    "        if data[j] == 1:\n",
    "            union(parent, i+1, j+1)\n",
    "                \n",
    "plan = list(map(int, input().split()))\n",
    "\n",
    "result = True\n",
    "for i in range(m-1):\n",
    "    if find_parent(parent, plan[i]) != find_parent(parent, plan[i+1]):\n",
    "        result = False\n",
    "    \n",
    "if result = True:\n",
    "    print('YES')\n",
    "else:\n",
    "    print('NO')"
   ]
  }
 ],
 "metadata": {
  "kernelspec": {
   "display_name": "Python 3",
   "language": "python",
   "name": "python3"
  },
  "language_info": {
   "codemirror_mode": {
    "name": "ipython",
    "version": 3
   },
   "file_extension": ".py",
   "mimetype": "text/x-python",
   "name": "python",
   "nbconvert_exporter": "python",
   "pygments_lexer": "ipython3",
   "version": "3.8.8"
  }
 },
 "nbformat": 4,
 "nbformat_minor": 5
}
