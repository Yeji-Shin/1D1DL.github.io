{
 "cells": [
  {
   "cell_type": "code",
   "execution_count": null,
   "id": "f558be7a",
   "metadata": {},
   "outputs": [],
   "source": [
    "n = int(input())\n",
    "m = int(input())\n",
    "\n",
    "INF = int(1e9)\n",
    "graph = [[INF]*(n+1) for _ in range(n+1)]\n",
    "\n",
    "# 자기 자신으로 가는 비용 0으로 초기화\n",
    "for i in range(n):\n",
    "    for j in range(n):\n",
    "        if i==j:\n",
    "            graph[i][j] = 0\n",
    "\n",
    "# 데이터 입력받기\n",
    "for _ in range(m):\n",
    "    a, b, c = map(int, input().split())\n",
    "    # 가장 짧은 간선 정보만 저장\n",
    "    if c < graph[a][b]:\n",
    "        graph[a][b] = c\n",
    "    \n",
    "# 점화식\n",
    "for k in range(1,n+1):\n",
    "    for i in range(1,n+1):\n",
    "        for j in range(1,n+1):\n",
    "            graph[i][j] = min(graph[i][j], graph[i][k]+graph[k][j])\n",
    "                \n",
    "for i in range(1,n+1):\n",
    "    for j in range(1,n+1):\n",
    "        if graph[i][j] == INF:\n",
    "            print(0, end=' ')\n",
    "        else: \n",
    "            print(graph[i][j], end=' ')\n",
    "    print()"
   ]
  }
 ],
 "metadata": {
  "kernelspec": {
   "display_name": "Python 3",
   "language": "python",
   "name": "python3"
  },
  "language_info": {
   "codemirror_mode": {
    "name": "ipython",
    "version": 3
   },
   "file_extension": ".py",
   "mimetype": "text/x-python",
   "name": "python",
   "nbconvert_exporter": "python",
   "pygments_lexer": "ipython3",
   "version": "3.8.8"
  }
 },
 "nbformat": 4,
 "nbformat_minor": 5
}
