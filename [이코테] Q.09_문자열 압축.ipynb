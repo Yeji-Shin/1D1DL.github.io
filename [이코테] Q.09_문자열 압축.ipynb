{
 "cells": [
  {
   "cell_type": "code",
   "execution_count": null,
   "id": "70b34933",
   "metadata": {},
   "outputs": [],
   "source": [
    "def solution(s):\n",
    "    answer = len(s)  # 원래의 길이로 초기화\n",
    "    \n",
    "    for i in range(1, len(s)//2+1):  # 각 길이에 대해 진행 \n",
    "        new_s = ''\n",
    "        count = 1\n",
    "        prev = s[0:i]\n",
    "        for j in range(i, len(s), i):\n",
    "            if prev == s[j:j+i]:\n",
    "                count += 1\n",
    "            else:\n",
    "                if count == 1:\n",
    "                    new_s += prev\n",
    "                else:\n",
    "                    new_s += (str(count) + prev)\n",
    "                prev = s[j:j+i]\n",
    "                count = 1\n",
    "        \n",
    "        # 남아있는 문자열 처리\n",
    "        new_s += str(count) + prev if count >= 2 else prev\n",
    "        \n",
    "        answer = min(answer, len(new_s))\n",
    "                     \n",
    "    return answer"
   ]
  }
 ],
 "metadata": {
  "kernelspec": {
   "display_name": "Python 3",
   "language": "python",
   "name": "python3"
  },
  "language_info": {
   "codemirror_mode": {
    "name": "ipython",
    "version": 3
   },
   "file_extension": ".py",
   "mimetype": "text/x-python",
   "name": "python",
   "nbconvert_exporter": "python",
   "pygments_lexer": "ipython3",
   "version": "3.8.8"
  }
 },
 "nbformat": 4,
 "nbformat_minor": 5
}
