{
 "cells": [
  {
   "cell_type": "code",
   "execution_count": 5,
   "id": "d212cef5",
   "metadata": {},
   "outputs": [
    {
     "name": "stdout",
     "output_type": "stream",
     "text": [
      "5 3\n",
      "1\n",
      "2\n",
      "8\n",
      "4\n",
      "9\n",
      "3\n"
     ]
    }
   ],
   "source": [
    "#파라메트릭 서치 (최적의 해 문제)\n",
    "\n",
    "#가장 인접한 두 공유기 사이의 거리의 최댓값 탐색\n",
    "#가장 인접한 두 공유기 사이의 거리를 조절해가며 c보다 많은 개수로 공류기를 설치할 수 있는지 체크\n",
    "\n",
    "n, c = map(int, input().split())\n",
    "house = []\n",
    "for _ in range(n):\n",
    "    house.append(int(input()))\n",
    "house.sort()\n",
    "\n",
    "start = house[1] - house[0]\n",
    "end = house[-1] - house[0]\n",
    "result = 0\n",
    "\n",
    "while (start<=end):\n",
    "    mid = (start+end)//2  # 가장 인접한 두 공유기 사이의 거리\n",
    "    value = house[0]  # 제일 앞에 설치\n",
    "    count = 1\n",
    "    \n",
    "    # 현재의 mid 값으로 공유기 설치\n",
    "    for i in range(1,n):  # 앞에서부터 설치\n",
    "        if house[i] >= value+mid:\n",
    "            value = house[i]\n",
    "            count += 1\n",
    "    \n",
    "    if count >= c:  # c개 이상 설치할 수 있으면 gap 증가\n",
    "        start = mid+1\n",
    "        result = mid\n",
    "    else:  # c개 이상 설치 못하면 gap 감소\n",
    "        end = mid - 1\n",
    "        \n",
    "print(result)"
   ]
  }
 ],
 "metadata": {
  "kernelspec": {
   "display_name": "Python 3",
   "language": "python",
   "name": "python3"
  },
  "language_info": {
   "codemirror_mode": {
    "name": "ipython",
    "version": 3
   },
   "file_extension": ".py",
   "mimetype": "text/x-python",
   "name": "python",
   "nbconvert_exporter": "python",
   "pygments_lexer": "ipython3",
   "version": "3.8.8"
  }
 },
 "nbformat": 4,
 "nbformat_minor": 5
}
