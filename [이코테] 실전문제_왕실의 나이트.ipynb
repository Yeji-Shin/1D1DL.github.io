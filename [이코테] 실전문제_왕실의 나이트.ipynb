{
 "cells": [
  {
   "cell_type": "code",
   "execution_count": 3,
   "id": "38b766db",
   "metadata": {},
   "outputs": [
    {
     "name": "stdout",
     "output_type": "stream",
     "text": [
      "a1\n",
      "2\n"
     ]
    }
   ],
   "source": [
    "data = input()\n",
    "\n",
    "a = ['a', 'b', 'c', 'd', 'e', 'f', 'g', 'h']\n",
    "x = int(data[1])\n",
    "y = a.index(data[0]) + 1\n",
    "\n",
    "dx = [-2, -2, 2, 2, -1, 1, -1, 1]\n",
    "dy = [1, -1, 1, -1, 2, 2, -2, -2]\n",
    "\n",
    "result = 0\n",
    "for i in range(8):\n",
    "    nx = x + dx[i]\n",
    "    ny = y + dy[i]\n",
    "    if 0<nx<=8 and 0<ny<=8:\n",
    "        result += 1\n",
    "        \n",
    "print(result)"
   ]
  },
  {
   "cell_type": "code",
   "execution_count": 4,
   "id": "006fff65",
   "metadata": {},
   "outputs": [
    {
     "name": "stdout",
     "output_type": "stream",
     "text": [
      "a1\n",
      "2\n"
     ]
    }
   ],
   "source": [
    "# ord()함수 사용\n",
    "\n",
    "data = input()\n",
    "\n",
    "x = int(data[1])\n",
    "y = int(ord(data[0])) - int(ord('a')) + 1\n",
    "\n",
    "dx = [-2, -2, 2, 2, -1, 1, -1, 1]\n",
    "dy = [1, -1, 1, -1, 2, 2, -2, -2]\n",
    "\n",
    "result = 0\n",
    "for i in range(8):\n",
    "    nx = x + dx[i]\n",
    "    ny = y + dy[i]\n",
    "    if 0<nx<=8 and 0<ny<=8:\n",
    "        result += 1\n",
    "        \n",
    "print(result)"
   ]
  }
 ],
 "metadata": {
  "kernelspec": {
   "display_name": "Python 3",
   "language": "python",
   "name": "python3"
  },
  "language_info": {
   "codemirror_mode": {
    "name": "ipython",
    "version": 3
   },
   "file_extension": ".py",
   "mimetype": "text/x-python",
   "name": "python",
   "nbconvert_exporter": "python",
   "pygments_lexer": "ipython3",
   "version": "3.8.8"
  }
 },
 "nbformat": 4,
 "nbformat_minor": 5
}
