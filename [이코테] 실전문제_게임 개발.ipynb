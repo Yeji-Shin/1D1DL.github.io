{
 "cells": [
  {
   "cell_type": "code",
   "execution_count": 4,
   "id": "4df7a299",
   "metadata": {},
   "outputs": [
    {
     "name": "stdout",
     "output_type": "stream",
     "text": [
      "4 4\n",
      "1 1 0\n",
      "1 1 1 1\n",
      "1 0 0 1\n",
      "1 1 0 1\n",
      "1 1 1 1\n",
      "3\n"
     ]
    }
   ],
   "source": [
    "n, m = map(int,input().split())\n",
    "x, y, d = map(int, input().split())\n",
    "\n",
    "graph = []\n",
    "for _ in range(n):\n",
    "    graph.append(list(map(int, input().split())))\n",
    "\n",
    "# 방문한 위치를 저장\n",
    "visited = [[0]*m for _ in range(n)]\n",
    "\n",
    "# 반시계 방향으로 90도 회전\n",
    "def rotate():\n",
    "    global d\n",
    "    d -= 1\n",
    "    if d == -1:\n",
    "        d = 3\n",
    "    \n",
    "# 북, 동 ,남, 서\n",
    "dx = [-1, 0, 1, 0]\n",
    "dy = [0, 1, 0, -1]\n",
    "\n",
    "result = 1\n",
    "turn_time = 0\n",
    "visited[x][y] = 1  # 처음 위치 방문 처리\n",
    "while True:\n",
    "    rotate()\n",
    "    nx = x + dx[d]\n",
    "    ny = y + dy[d]\n",
    "    if visited[nx][ny] == 0 and graph[nx][ny] == 0:\n",
    "        visited[nx][ny] = 1\n",
    "        x = nx\n",
    "        y = ny\n",
    "        result += 1\n",
    "        turn_time = 0\n",
    "        continue\n",
    "    else:\n",
    "        turn_time += 1\n",
    "    if turn_time == 4: # 네가지 방향 모두 갈 수 없는 경우\n",
    "        nx = x - dx[d]\n",
    "        ny = y - dy[d]\n",
    "        if graph[nx][ny] == 0:  # 뒤로 갈 수 있으면 이동\n",
    "            x = nx\n",
    "            y = ny\n",
    "        else:  # 뒤로 갈 수 없는 경우\n",
    "            break\n",
    "        turn_time = 0  \n",
    "        \n",
    "print(result)"
   ]
  }
 ],
 "metadata": {
  "kernelspec": {
   "display_name": "Python 3",
   "language": "python",
   "name": "python3"
  },
  "language_info": {
   "codemirror_mode": {
    "name": "ipython",
    "version": 3
   },
   "file_extension": ".py",
   "mimetype": "text/x-python",
   "name": "python",
   "nbconvert_exporter": "python",
   "pygments_lexer": "ipython3",
   "version": "3.8.8"
  }
 },
 "nbformat": 4,
 "nbformat_minor": 5
}
