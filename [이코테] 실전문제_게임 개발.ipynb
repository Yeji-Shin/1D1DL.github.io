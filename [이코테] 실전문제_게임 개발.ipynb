{
 "cells": [
  {
   "cell_type": "code",
   "execution_count": null,
   "id": "4df7a299",
   "metadata": {},
   "outputs": [],
   "source": [
    "n, m = map(int,input().split())\n",
    "a, b, d = map(int, input().split())\n",
    "\n",
    "graph = []\n",
    "for _ in range(n):\n",
    "    graph.append(list(map(int, input().split())))\n",
    "    \n",
    "x -= 1\n",
    "y -= 1\n",
    "\n",
    "def rotate(d):\n",
    "    if d - 1 >= 0:\n",
    "        return (d-1)%4\n",
    "    return (-(d-1))%4\n",
    "    \n",
    "# 북, 동 ,남, 서\n",
    "dx = [-1, 0, 1, 0]\n",
    "dy = [0, 1, 0, -1]\n",
    "\n",
    "result = 0\n",
    "while True:\n",
    "    rotate(d)\n",
    "    nx = x + dx[d]\n",
    "    ny = y + dy[d]\n",
    "    if graph[nx][ny] != 2:\n",
    "        graph[nx][ny] = 2\n",
    "        x = nx\n",
    "        y = ny\n",
    "    else:\n",
    "        rotate(d)\n",
    "    if "
   ]
  }
 ],
 "metadata": {
  "kernelspec": {
   "display_name": "Python 3",
   "language": "python",
   "name": "python3"
  },
  "language_info": {
   "codemirror_mode": {
    "name": "ipython",
    "version": 3
   },
   "file_extension": ".py",
   "mimetype": "text/x-python",
   "name": "python",
   "nbconvert_exporter": "python",
   "pygments_lexer": "ipython3",
   "version": "3.8.8"
  }
 },
 "nbformat": 4,
 "nbformat_minor": 5
}
