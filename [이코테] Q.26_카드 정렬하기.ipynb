{
 "cells": [
  {
   "cell_type": "code",
   "execution_count": 11,
   "id": "fa0ee1e4",
   "metadata": {},
   "outputs": [
    {
     "name": "stdout",
     "output_type": "stream",
     "text": [
      "3\n",
      "1\n",
      "2\n",
      "4\n",
      "10\n"
     ]
    }
   ],
   "source": [
    "# 반복적으로 가장 작은 두개를 합치기\n",
    "\n",
    "import heapq \n",
    "\n",
    "n = int(input())\n",
    "cards = []\n",
    "for _ in range(n):\n",
    "    heapq.heappush(cards, int(input()))\n",
    "\n",
    "result = 0\n",
    "while len(cards) >1:\n",
    "    a = heapq.heappop(cards)\n",
    "    b = heapq.heappop(cards)\n",
    "    sum = a + b\n",
    "    heapq.heappush(cards, sum)\n",
    "    result += sum \n",
    "    \n",
    "print(result)"
   ]
  }
 ],
 "metadata": {
  "kernelspec": {
   "display_name": "Python 3",
   "language": "python",
   "name": "python3"
  },
  "language_info": {
   "codemirror_mode": {
    "name": "ipython",
    "version": 3
   },
   "file_extension": ".py",
   "mimetype": "text/x-python",
   "name": "python",
   "nbconvert_exporter": "python",
   "pygments_lexer": "ipython3",
   "version": "3.8.8"
  }
 },
 "nbformat": 4,
 "nbformat_minor": 5
}
