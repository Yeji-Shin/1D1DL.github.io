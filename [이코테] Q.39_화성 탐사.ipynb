{
 "cells": [
  {
   "cell_type": "code",
   "execution_count": null,
   "id": "0f44a267",
   "metadata": {},
   "outputs": [],
   "source": [
    "import heapq\n",
    "import sys\n",
    "\n",
    "\n",
    "INF = int(1e9)\n",
    "t = int(input())\n",
    "\n",
    "dx = [-1, 0, 1, 0]\n",
    "dy = [0, 1, 0, -1]\n",
    "\n",
    "for tc in range(t):\n",
    "    n = int(input())\n",
    "    \n",
    "    graph = []\n",
    "    for _ in range(n):\n",
    "        graph.append(list(map(int, input().split())))\n",
    "\n",
    "    distance = [[INF] * (n) for _ in range(n)]\n",
    "    \n",
    "    x = 0\n",
    "    y = 0\n",
    "    q = [(graph[x][y], x, y)]\n",
    "    distance[x][y] = graph[x][y]\n",
    "\n",
    "    while q:\n",
    "        dist, x, y = heapq.heappop(q)\n",
    "        # 현재 노드가 이미 처리된 노드이면 무시\n",
    "        if distance[x][y] < dist:\n",
    "            continue\n",
    "        # 현재 노드와 연결된 다른 인접한 노드 확인\n",
    "        for i in range(4):\n",
    "            nx = x + dx[i]\n",
    "            ny = y + dy[i]\n",
    "            # 범위를 벗어나는 경우 무시\n",
    "            if nx<0 or nx>=n or ny<0 or ny>=n:\n",
    "                continue\n",
    "            cost = dist + graph[nx][ny]\n",
    "            \n",
    "            if cost < distance[nx][ny]:\n",
    "                distance[nx][ny] = cost\n",
    "                heapq.heappush(q, (cost, nx, ny))\n",
    "                \n",
    "    print(distance[n-1][n-1])"
   ]
  }
 ],
 "metadata": {
  "kernelspec": {
   "display_name": "Python 3",
   "language": "python",
   "name": "python3"
  },
  "language_info": {
   "codemirror_mode": {
    "name": "ipython",
    "version": 3
   },
   "file_extension": ".py",
   "mimetype": "text/x-python",
   "name": "python",
   "nbconvert_exporter": "python",
   "pygments_lexer": "ipython3",
   "version": "3.8.8"
  }
 },
 "nbformat": 4,
 "nbformat_minor": 5
}
