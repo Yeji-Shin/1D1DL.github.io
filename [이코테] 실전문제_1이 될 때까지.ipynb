{
 "cells": [
  {
   "cell_type": "code",
   "execution_count": 3,
   "id": "53437a0d",
   "metadata": {},
   "outputs": [
    {
     "name": "stdout",
     "output_type": "stream",
     "text": [
      "25 5\n",
      "2\n"
     ]
    }
   ],
   "source": [
    "# k로 나누어 떨어질 때 까지 n에서 -1을 진행\n",
    "\n",
    "n, k = map(int, input().split())\n",
    "\n",
    "result =0 \n",
    "while True:\n",
    "    if n == 1:\n",
    "        break\n",
    "    if n % k == 0:\n",
    "        n //= k\n",
    "    else:\n",
    "        n -= 1\n",
    "    result += 1\n",
    "print(result)"
   ]
  },
  {
   "cell_type": "code",
   "execution_count": 4,
   "id": "ac512cb1",
   "metadata": {},
   "outputs": [
    {
     "name": "stdout",
     "output_type": "stream",
     "text": [
      "25 5\n",
      "2\n"
     ]
    }
   ],
   "source": [
    "n, k = map(int, input().split())\n",
    "\n",
    "result =0 \n",
    "\n",
    "# n이 k이상이면 k로 게속 나누기\n",
    "while n >= k:\n",
    "    while n%k != 0:\n",
    "        n -=1 \n",
    "        result += 1\n",
    "        \n",
    "    n //= k\n",
    "    result += 1\n",
    "\n",
    "# 마지막으로 남은 수에 대해 1씩 빼기\n",
    "while n>1:\n",
    "    n -= 1\n",
    "    result +=1 \n",
    "    \n",
    "print(result)"
   ]
  },
  {
   "cell_type": "code",
   "execution_count": null,
   "id": "50b2fa0f",
   "metadata": {},
   "outputs": [],
   "source": [
    "# 1씩 빼지 않고 한번에 k의 배수가 되도록 빼기\n",
    "\n",
    "n, k = map(int, input().split())\n",
    "\n",
    "result =0 \n",
    "\n",
    "while True:\n",
    "    # k의 배수가 될 때 까지 1 빼기\n",
    "    target = (n//k) * k\n",
    "    result += (n-target)\n",
    "    n = target\n",
    "    \n",
    "    if n<k:\n",
    "        break\n",
    "    \n",
    "    # k로 나누기\n",
    "    result += 1\n",
    "    n //= k\n",
    "    \n",
    "# 마지막으로 남은 수에 대해 1씩 빼기\n",
    "result += (n-1)\n",
    "print(result)"
   ]
  }
 ],
 "metadata": {
  "kernelspec": {
   "display_name": "Python 3",
   "language": "python",
   "name": "python3"
  },
  "language_info": {
   "codemirror_mode": {
    "name": "ipython",
    "version": 3
   },
   "file_extension": ".py",
   "mimetype": "text/x-python",
   "name": "python",
   "nbconvert_exporter": "python",
   "pygments_lexer": "ipython3",
   "version": "3.8.8"
  }
 },
 "nbformat": 4,
 "nbformat_minor": 5
}
