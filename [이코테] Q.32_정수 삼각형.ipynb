{
 "cells": [
  {
   "cell_type": "code",
   "execution_count": 2,
   "id": "b64fe6e8",
   "metadata": {},
   "outputs": [
    {
     "name": "stdout",
     "output_type": "stream",
     "text": [
      "5\n",
      "7\n",
      "3 8\n",
      "8 1 0\n",
      "2 7 4 4\n",
      "4 5 2 6 5\n",
      "30\n"
     ]
    }
   ],
   "source": [
    "n = int(input())  # 삼각형의 줄 개수\n",
    "dp = []\n",
    "for _ in range(n):\n",
    "    dp.append(list(map(int, input().split())))\n",
    "    \n",
    "for i in range(1,n):\n",
    "    for j in range(i+1):\n",
    "        # 왼쪽 위에서 오는 경우\n",
    "        if j == 0:\n",
    "            left_up = 0\n",
    "        else:\n",
    "            left_up = dp[i-1][j-1]\n",
    "\n",
    "        # 오른쪽 위에서 오는 경우\n",
    "        if j == i:\n",
    "            right_up = 0\n",
    "        else:\n",
    "            right_up = dp[i-1][j]\n",
    "            \n",
    "        dp[i][j] = dp[i][j] + max(left_up, right_up)\n",
    "        \n",
    "print(max(dp[n-1]))"
   ]
  }
 ],
 "metadata": {
  "kernelspec": {
   "display_name": "Python 3",
   "language": "python",
   "name": "python3"
  },
  "language_info": {
   "codemirror_mode": {
    "name": "ipython",
    "version": 3
   },
   "file_extension": ".py",
   "mimetype": "text/x-python",
   "name": "python",
   "nbconvert_exporter": "python",
   "pygments_lexer": "ipython3",
   "version": "3.8.8"
  }
 },
 "nbformat": 4,
 "nbformat_minor": 5
}
