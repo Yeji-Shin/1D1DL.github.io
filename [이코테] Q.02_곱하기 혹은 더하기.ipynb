{
 "cells": [
  {
   "cell_type": "code",
   "execution_count": 5,
   "id": "d93f36c8",
   "metadata": {},
   "outputs": [
    {
     "name": "stdout",
     "output_type": "stream",
     "text": [
      "02984\n",
      "576\n"
     ]
    }
   ],
   "source": [
    "# 풀이 1\n",
    "\n",
    "s = input()\n",
    "answer = s[0]\n",
    "for i in range(1,len(s)):\n",
    "    answer = max(int(answer)+int(s[i]), int(answer)*int(s[i]))\n",
    "    \n",
    "print(answer)"
   ]
  },
  {
   "cell_type": "code",
   "execution_count": 6,
   "id": "faf5eea8",
   "metadata": {},
   "outputs": [
    {
     "name": "stdout",
     "output_type": "stream",
     "text": [
      "02984\n",
      "576\n"
     ]
    }
   ],
   "source": [
    "# 풀이 2\n",
    "\n",
    "s = input()\n",
    "answer = int(s[0])\n",
    "\n",
    "for i in range(1, len(s)):\n",
    "    num = int(s[i])\n",
    "    # 두 수중에서 하나라고 0이나 1인 경우는 더하는 게 좋음\n",
    "    if num <= 1 or answer <= 1:\n",
    "        answer += num\n",
    "    else:\n",
    "        answer *= num\n",
    "        \n",
    "print(answer)"
   ]
  }
 ],
 "metadata": {
  "kernelspec": {
   "display_name": "Python 3",
   "language": "python",
   "name": "python3"
  },
  "language_info": {
   "codemirror_mode": {
    "name": "ipython",
    "version": 3
   },
   "file_extension": ".py",
   "mimetype": "text/x-python",
   "name": "python",
   "nbconvert_exporter": "python",
   "pygments_lexer": "ipython3",
   "version": "3.8.8"
  }
 },
 "nbformat": 4,
 "nbformat_minor": 5
}
