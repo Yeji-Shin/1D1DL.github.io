{
 "cells": [
  {
   "cell_type": "code",
   "execution_count": 1,
   "id": "2dbb2ca8",
   "metadata": {},
   "outputs": [
    {
     "name": "stdout",
     "output_type": "stream",
     "text": [
      "10\n",
      "12\n"
     ]
    }
   ],
   "source": [
    "n = int(input())\n",
    "\n",
    "dp =[0] *n\n",
    "dp[0] = 1\n",
    "\n",
    "i2 = i3 = i5 = 0\n",
    "# 2, 3, 5를 곱합 곱셈값 초기화\n",
    "next2, next3, next5 = 2, 3, 5\n",
    "\n",
    "for i in range(1, n):\n",
    "    dp[i] = min(next2, next3, next5)\n",
    "    \n",
    "    if dp[i] == next2:\n",
    "        i2 += 1\n",
    "        next2 = dp[i2] * 2\n",
    "        \n",
    "    if dp[i] == next3:\n",
    "        i3 += 1\n",
    "        next3 = dp[i3] * 3\n",
    "        \n",
    "    if dp[i] == next5:\n",
    "        i5 += 1\n",
    "        next5 = dp[i5] * 5\n",
    "        \n",
    "print(dp[n-1])"
   ]
  }
 ],
 "metadata": {
  "kernelspec": {
   "display_name": "Python 3",
   "language": "python",
   "name": "python3"
  },
  "language_info": {
   "codemirror_mode": {
    "name": "ipython",
    "version": 3
   },
   "file_extension": ".py",
   "mimetype": "text/x-python",
   "name": "python",
   "nbconvert_exporter": "python",
   "pygments_lexer": "ipython3",
   "version": "3.8.8"
  }
 },
 "nbformat": 4,
 "nbformat_minor": 5
}
