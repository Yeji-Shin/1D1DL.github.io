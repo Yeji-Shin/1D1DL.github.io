{
 "cells": [
  {
   "cell_type": "code",
   "execution_count": 8,
   "id": "44260a73",
   "metadata": {},
   "outputs": [
    {
     "name": "stdout",
     "output_type": "stream",
     "text": [
      "5 1\n",
      "1 2 0 0 0\n",
      "1 2 0 0 0\n",
      "1 2 0 0 0\n",
      "1 2 0 0 0\n",
      "1 2 0 0 0\n",
      "11\n"
     ]
    }
   ],
   "source": [
    "# 풀이 1\n",
    "\n",
    "n, m = map(int, input().split())\n",
    "graph = []\n",
    "for _ in range(n):\n",
    "    graph.append(list(map(int, input().split())))\n",
    "    \n",
    "house = []  # 집의 위치 정보\n",
    "chicken = []  # 치킨 집들의 위치 정보\n",
    "for i in range(n):\n",
    "    for j in range(n):\n",
    "        if graph[i][j] == 1:\n",
    "            house.append([i,j])\n",
    "        elif graph[i][j] == 2:\n",
    "            chicken.append([i,j])\n",
    "            \n",
    "from itertools import combinations\n",
    "\n",
    "chicken_yes = list(combinations(chicken, m))  # m개를 어떻게 유지할 건지 조합\n",
    "    \n",
    "dist = []\n",
    "for yes in chicken_yes:  # 각 조합마다 거리 구하기\n",
    "    \n",
    "    dist_city = 0  # 도시의 치킨 거리\n",
    "        \n",
    "    for hx, hy in (house):\n",
    "        dist_now = int(1e9)  # 현재 집의 치킨 거리 \n",
    "        for cx, cy in (yes):\n",
    "            dist_now = min(dist_now, abs(hx-cx) + abs(hy-cy))\n",
    "        dist_city += dist_now\n",
    "    \n",
    "    dist.append(dist_city)\n",
    "        \n",
    "print(min(dist))"
   ]
  },
  {
   "cell_type": "code",
   "execution_count": 11,
   "id": "d1522683",
   "metadata": {},
   "outputs": [
    {
     "name": "stdout",
     "output_type": "stream",
     "text": [
      "5 1\n",
      "1 2 0 0 0\n",
      "1 2 0 0 0\n",
      "1 2 0 0 0\n",
      "1 2 0 0 0\n",
      "1 2 0 0 0\n",
      "11\n"
     ]
    }
   ],
   "source": [
    "# 풀이 2\n",
    "\n",
    "n, m = map(int, input().split())\n",
    "chicken, house = [], []\n",
    "for r in range(n):\n",
    "    data = list(map(int, input().split()))\n",
    "    for c in range(n):\n",
    "        if data[c] == 1:\n",
    "            house.append((r,c))\n",
    "        elif data[c] == 2:\n",
    "            chicken.append((r,c))\n",
    "            \n",
    "from itertools import combinations\n",
    "\n",
    "candidates = list(combinations(chicken, m))  # m개를 어떻게 유지할 건지 조합\n",
    "\n",
    "# 도시의 치킨 거리 구하는 함수\n",
    "def get_sum(candidate):\n",
    "    result = 0\n",
    "    for hx, hy in (house):\n",
    "        dist_now = int(1e9)  # 현재 집의 치킨 거리 \n",
    "        for cx, cy in candidate:\n",
    "            dist_now = min(dist_now, abs(hx-cx) + abs(hy-cy))\n",
    "        result += dist_now\n",
    "        \n",
    "    return result\n",
    "\n",
    "result = 1e9\n",
    "for candidate in candidates:\n",
    "    result = min(result, get_sum(candidate))\n",
    "    \n",
    "print(result)"
   ]
  }
 ],
 "metadata": {
  "kernelspec": {
   "display_name": "Python 3",
   "language": "python",
   "name": "python3"
  },
  "language_info": {
   "codemirror_mode": {
    "name": "ipython",
    "version": 3
   },
   "file_extension": ".py",
   "mimetype": "text/x-python",
   "name": "python",
   "nbconvert_exporter": "python",
   "pygments_lexer": "ipython3",
   "version": "3.8.8"
  }
 },
 "nbformat": 4,
 "nbformat_minor": 5
}
