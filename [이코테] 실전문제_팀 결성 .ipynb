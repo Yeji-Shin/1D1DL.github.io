{
 "cells": [
  {
   "cell_type": "code",
   "execution_count": 5,
   "id": "14bbff56",
   "metadata": {},
   "outputs": [
    {
     "name": "stdout",
     "output_type": "stream",
     "text": [
      "7 8\n",
      "0 1 3\n",
      "1 1 7\n",
      "NO\n",
      "0 7 6\n",
      "1 7 1\n",
      "NO\n",
      "0 3 7\n",
      "0 4 2\n",
      "0 1 1\n",
      "1 1 1\n",
      "YES\n"
     ]
    }
   ],
   "source": [
    "# 특정 원소가 속한 집합 찾기\n",
    "def find_parent(parent, x):\n",
    "    if parent[x] != x:  # 내가 루트 노드가 아닐때 (다른 집합에 포함되어 있을때)\n",
    "        find_parent(parent, parent[x])\n",
    "    return parent[x]  # 루트 노드 반환\n",
    "\n",
    "# union\n",
    "def union(parent, a, b):\n",
    "    a_parent = find_parent(parent, a)\n",
    "    b_parent = find_parent(parent, b)\n",
    "    if a_parent < b_parent:  # 작은 숫자를 가리키도록\n",
    "        parent[b_parent] = a_parent\n",
    "    else:\n",
    "        parent[a_parent] = b_parent\n",
    "        \n",
    "# 입력 받기\n",
    "n, m = map(int, input().split())\n",
    "\n",
    "# 부모 테이블 초기화\n",
    "parent = [0] * (n+1)  \n",
    "for i in range(n+1):\n",
    "    parent[i] = i\n",
    "\n",
    "for _ in range(m):\n",
    "    c, a, b = map(int, input().split())\n",
    "    if c == 0:  # 합치기 연산\n",
    "        union(parent, a, b)\n",
    "    else:  # a와 b의 같은 팀 여부 확인 \n",
    "        if find_parent(parent, a) == find_parent(parent, b):\n",
    "            print('YES')\n",
    "        else:\n",
    "            print('NO')"
   ]
  },
  {
   "cell_type": "code",
   "execution_count": null,
   "id": "60c75985",
   "metadata": {},
   "outputs": [],
   "source": []
  }
 ],
 "metadata": {
  "kernelspec": {
   "display_name": "Python 3",
   "language": "python",
   "name": "python3"
  },
  "language_info": {
   "codemirror_mode": {
    "name": "ipython",
    "version": 3
   },
   "file_extension": ".py",
   "mimetype": "text/x-python",
   "name": "python",
   "nbconvert_exporter": "python",
   "pygments_lexer": "ipython3",
   "version": "3.8.8"
  }
 },
 "nbformat": 4,
 "nbformat_minor": 5
}
