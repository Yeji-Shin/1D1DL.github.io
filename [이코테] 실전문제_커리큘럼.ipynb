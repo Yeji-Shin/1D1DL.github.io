{
 "cells": [
  {
   "cell_type": "code",
   "execution_count": 4,
   "id": "30a6518a",
   "metadata": {},
   "outputs": [
    {
     "name": "stdout",
     "output_type": "stream",
     "text": [
      "5\n",
      "10 -1\n",
      "10 1 -1\n",
      "4 1 -1\n",
      "4 3 1 -1\n",
      "3 3 -1\n",
      "10\n",
      "20\n",
      "14\n",
      "18\n",
      "17\n"
     ]
    }
   ],
   "source": [
    "# 위상정렬\n",
    "\n",
    "# 진입차수가 낮은 것 부터 진행\n",
    "\n",
    "from collections import deque\n",
    "from copy import deepcopy\n",
    "\n",
    "n = int(input())  # 강의의 수\n",
    "\n",
    "graph = [[] for _ in range(n+1)]\n",
    "indegree = [0] * (n+1)\n",
    "time = [0] * (n+1)\n",
    "for i in range(1,n+1):\n",
    "    data = list(map(int, input().split()))\n",
    "    time[i] = data[0]  # 현재 과목 수강시간\n",
    "    for x in data[1:-1]:  # 선수과목 \n",
    "        indegree[i] += 1\n",
    "        graph[x].append(i)  # x를 들어야 i를 들을수 있음 \n",
    "\n",
    "    \n",
    "def topology():\n",
    "    result = deepcopy(time)  # 수행 결과 (각 과목을 수강하기 위한 최소시간)\n",
    "    \n",
    "    q = deque()\n",
    "    # 처음에 진입차수가 0인 노드를 큐에 삽입\n",
    "    for i in range(n+1):\n",
    "        if indegree[i] == 0:\n",
    "            q.append(i)\n",
    "            \n",
    "    while q:\n",
    "        now = q.popleft()\n",
    "        for nn in graph[now]:\n",
    "            result[nn] = max(result[nn], result[now]+time[nn])\n",
    "            indegree[nn] -= 1\n",
    "            if indegree[nn] == 0:  # 새롭게 진입차수가 0이 되는 노드를 큐에 삽입\n",
    "                q.append(nn)\n",
    "\n",
    "    for i in range(1, n+1):\n",
    "        print(result[i])\n",
    "        \n",
    "topology()"
   ]
  }
 ],
 "metadata": {
  "kernelspec": {
   "display_name": "Python 3",
   "language": "python",
   "name": "python3"
  },
  "language_info": {
   "codemirror_mode": {
    "name": "ipython",
    "version": 3
   },
   "file_extension": ".py",
   "mimetype": "text/x-python",
   "name": "python",
   "nbconvert_exporter": "python",
   "pygments_lexer": "ipython3",
   "version": "3.8.8"
  }
 },
 "nbformat": 4,
 "nbformat_minor": 5
}
