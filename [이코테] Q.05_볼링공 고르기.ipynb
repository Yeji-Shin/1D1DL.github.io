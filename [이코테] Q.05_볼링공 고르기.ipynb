{
 "cells": [
  {
   "cell_type": "code",
   "execution_count": null,
   "id": "074afbec",
   "metadata": {},
   "outputs": [],
   "source": [
    "n,m = map(int, input().split())\n",
    "data = list(map(int, input.split()))\n",
    "\n",
    "array = [0] * 11  # 각 무게별로 몇개 있는지 리스트\n",
    "\n",
    "for x in data:\n",
    "    array[x] += 1\n",
    "\n",
    "answer = 0\n",
    "for i in range(1, m+1):\n",
    "    n -= array[i]  # array[i] = A가 선택할 수 있는 공의 개수, n=B가 선택할 수 있는 공의 개수\n",
    "    answer += array[i]*n  # B가 선택하는 경우와 곱해주기\n",
    "    \n",
    "print(answer)"
   ]
  }
 ],
 "metadata": {
  "kernelspec": {
   "display_name": "Python 3",
   "language": "python",
   "name": "python3"
  },
  "language_info": {
   "codemirror_mode": {
    "name": "ipython",
    "version": 3
   },
   "file_extension": ".py",
   "mimetype": "text/x-python",
   "name": "python",
   "nbconvert_exporter": "python",
   "pygments_lexer": "ipython3",
   "version": "3.8.8"
  }
 },
 "nbformat": 4,
 "nbformat_minor": 5
}
